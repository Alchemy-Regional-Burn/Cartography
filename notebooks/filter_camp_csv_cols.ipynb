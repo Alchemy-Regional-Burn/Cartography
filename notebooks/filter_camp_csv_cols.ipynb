{
 "cells": [
  {
   "metadata": {
    "collapsed": true
   },
   "cell_type": "markdown",
   "source": [
    "# Filtering columns in theme camp CSV exported from spreadsheet\n",
    "The theme camp information is captured from Google forms in a spreadsheet.  This spreadsheet contains columns that need to be merged into the theme camp polygon attribute table to allow for creating specialized maps, such as camp population chloropeths, showing distribution of inward vs. outward facing camps, and indicating closeness to budgeted square footage.\n",
    "\n",
    "A CSV file is exported from that Excel spreadsheet, but it contains fields that we don't want in the theme camp attribute table, particularly fields that contain personally identifiable information (PII), such as phone numbers and email addresses.  There are also a number of other fields that are irrelevant to making maps.\n",
    "\n",
    "This notebook filters for the fields we *want* and creates a CSV file from which we can then import into the theme camp layer."
   ],
   "id": "d7f998edc8153e82"
  },
  {
   "metadata": {
    "ExecuteTime": {
     "end_time": "2025-09-23T00:47:05.849410Z",
     "start_time": "2025-09-23T00:47:05.847490Z"
    }
   },
   "cell_type": "code",
   "source": [
    "import polars as pl\n",
    "from win32cryptcon import ALG_SID_AES_256"
   ],
   "id": "66ad92a0455183a",
   "outputs": [],
   "execution_count": 2
  },
  {
   "metadata": {
    "ExecuteTime": {
     "end_time": "2025-09-23T00:55:58.154492Z",
     "start_time": "2025-09-23T00:55:58.146211Z"
    }
   },
   "cell_type": "code",
   "source": "df = pl.read_csv(\"..\\..\\..\\Desktop\\A25 Theme Camp Registration - NorthStar(TCReg Info).csv\", has_header=True)",
   "id": "cbc42f3a4a5c835d",
   "outputs": [
    {
     "name": "stderr",
     "output_type": "stream",
     "text": [
      "<>:1: SyntaxWarning: invalid escape sequence '\\.'\n",
      "<>:1: SyntaxWarning: invalid escape sequence '\\.'\n",
      "C:\\Users\\mcole\\AppData\\Local\\Temp\\ipykernel_15144\\2181091960.py:1: SyntaxWarning: invalid escape sequence '\\.'\n",
      "  df = pl.read_csv(\"..\\..\\..\\Desktop\\A25 Theme Camp Registration - NorthStar(TCReg Info).csv\", has_header=True)\n"
     ]
    }
   ],
   "execution_count": 23
  },
  {
   "metadata": {
    "ExecuteTime": {
     "end_time": "2025-09-23T01:03:25.778633Z",
     "start_time": "2025-09-23T01:03:25.775066Z"
    }
   },
   "cell_type": "code",
   "source": [
    "for i, name in enumerate(df.columns):\n",
    "    if i > 113:\n",
    "        break\n",
    "    print(i, name)"
   ],
   "id": "d53be011e0c281d7",
   "outputs": [
    {
     "name": "stdout",
     "output_type": "stream",
     "text": [
      "0 Theme Camp Name\n",
      "1 Neighborhood\n",
      "2        Index\n",
      "3 Jess collection :P\n",
      "4 N O T E S\n",
      "5 Submission ID\n",
      "6 Respondent ID\n",
      "7 Submitted at\n",
      "8 2024 TCC\n",
      "9 2025 TCC\n",
      "10        Field\n",
      "11 PlacementReason\n",
      "12 Problems\n",
      "13 deprecatedNeighborhoodCol\n",
      "14 location reason\n",
      "15 TCO Full Name\n",
      "16 TCO Preferred/Burner Name\n",
      "17 TCO Pronouns\n",
      "18 TCO Best Contact Number\n",
      "19 TCO Email\n",
      "20 Do you have a Co-TCO?\n",
      "21 CoTCO Full Name\n",
      "22 CoTCO Preferred/Burner Name\n",
      "23 CoTCO Pronouns\n",
      "24 CoTCO Best Contact Number\n",
      "25 CoTCO Email\n",
      "26 Theme Camp Description\n",
      "27 How many times has your camp been a part of Alchemy?\n",
      "28 Total Camp Members\n",
      "29 Are there minors in your camp?\n",
      "30 Rate your Kid Friendliness\n",
      "31 What type of Camp are you?\n",
      "32 Themes of your Camp\n",
      "33 Theme - Food\n",
      "34 Theme - Sound\n",
      "35 Theme - Party\n",
      "36 Theme - Fire\n",
      "37 Theme - Wellness/Spiritual\n",
      "38 Theme - Chill\n",
      "39 Theme - Education\n",
      "40 Theme - Kid Friendly\n",
      "41 Early Entry Passes Needed\n",
      "42 LNT Plan\n",
      "43 Are you part of a Village?\n",
      "44 Village Members \n",
      "45 Minimum Width (ft)\n",
      "46 Minimum Depth (ft)\n",
      "47 Preferred Width (ft)\n",
      "48 Preferred Depth (ft)\n",
      "49 totalsqft (preferred)\n",
      "50 Largest Immovable Object Name\n",
      "51 LIO Width (ft)\n",
      "52 LIO Depth (ft)\n",
      "53 more than one LIO\n",
      "54 more than one LIO (I'd like to list more things)\n",
      "55 LIO #2 Name\n",
      "56 LIO #2 Width (ft)\n",
      "57 LIO #2 Depth (ft)\n",
      "58 LIO #3 Name\n",
      "59 LIO #3 Width (ft)\n",
      "60 LIO #3 Depth (ft)\n",
      "61 Stationary Vehicles?\n",
      "62 How many Cars / Trucks\n",
      "63 How many RVs / Trailers\n",
      "64 Will register TC Vehicles\n",
      "65 Will register TC Vehicles (I understand)\n",
      "66 Site Map Link\n",
      "67 Site Map image file\n",
      "68 Accessibility accommodations?\n",
      "69 nature of accomodation request(s)\n",
      "70 porto placement\n",
      "71 shuttle stop placement\n",
      "72 Generators\n",
      "73 How many generators?\n",
      "74 sound baffling plan\n",
      "75 TC Sound Manager same as TCO?\n",
      "76 TC Sound Manager same as TCO? (Same as TCO Contact Info)\n",
      "77 TC Sound Manager Name\n",
      "78 TC SM Preferred/Burner Name\n",
      "79 TC SM Pronouns\n",
      "80 TC SM Contact Number\n",
      "81 TC SM Email\n",
      "82 What sound set-up do you intend to bring?\n",
      "83 Sound Level (1-6)\n",
      "84 What kind of Sound do you have?\n",
      "85 What kind of Lighting do you have?\n",
      "86 Sound Zones willing to be in (colored by loudest zone)\n",
      "87 sound zone loudest pref\n",
      "88 General Placement Preference\n",
      "89 GenPref (Flat Ground)\n",
      "90 General Placement Preference (Quieter Area)\n",
      "91 General Placement Preference (Heavy Foot Traffic)\n",
      "92 General Placement Preference (Near Art Burn & Center Village)\n",
      "93 General Placement Preference (Near Effigy)\n",
      "94 General Placement Preference (Near Temple)\n",
      "95 General Placement Preference (Near Camps of Similar Themes)\n",
      "96 General Placement Preference (Short Walk to Sound Camps)\n",
      "97 General Placement Preference (in order of preference)\n",
      "98 Hosting a Mutant Vehicle or Art Car?\n",
      "99 Will register MV Agreement\n",
      "100 Will register MV Agreement (Okay, I'll register it)\n",
      "101 Hosting any Art Projects?\n",
      "102 How many Art Projects?\n",
      "103 Art Project #1\n",
      "104 AP#1 Info\n",
      "105 Art Project #2\n",
      "106 AP#2 Info\n",
      "107 Art Project #3\n",
      "108 AP#3 Info\n",
      "109 Art Project #4\n",
      "110 AP#4 Info\n",
      "111 Art Project #5\n",
      "112 AP#5 Info\n",
      "113 Will register Art Agreement\n"
     ]
    }
   ],
   "execution_count": 27
  },
  {
   "metadata": {
    "ExecuteTime": {
     "end_time": "2025-09-23T01:14:08.327136Z",
     "start_time": "2025-09-23T01:14:08.325064Z"
    }
   },
   "cell_type": "code",
   "source": "cols_to_keep = [0, 1, 2, 28, 29, 30, 31, 33, 34, 35, 36, 37, 38, 39, 40, 44, 45, 46, 47, 48, 49, 50, 51, 52, 55, 56, 57, 58, 59, 60, 62, 63, 68, 69, 70, 71, 73, 83, 84, 85, 86, 87, 89, 90, 91, 92, 93, 94, 95, 96, 97, 98, 99, 102, 103, 104, 105, 106, 107, 108, 109, 110, 111, 112]",
   "id": "596db3038d2289bb",
   "outputs": [],
   "execution_count": 28
  },
  {
   "metadata": {
    "ExecuteTime": {
     "end_time": "2025-09-23T01:20:00.884876Z",
     "start_time": "2025-09-23T01:20:00.878268Z"
    }
   },
   "cell_type": "code",
   "source": [
    "cols_to_keep_by_i = [df.columns[i] for i in cols_to_keep]\n",
    "df_subset = df.select(cols_to_keep_by_i)"
   ],
   "id": "1eec6b121961405b",
   "outputs": [],
   "execution_count": 31
  },
  {
   "metadata": {
    "ExecuteTime": {
     "end_time": "2025-09-23T01:20:10.009286Z",
     "start_time": "2025-09-23T01:20:10.004529Z"
    }
   },
   "cell_type": "code",
   "source": "df_subset",
   "id": "4f7a5d70000c80f6",
   "outputs": [
    {
     "data": {
      "text/plain": [
       "shape: (141, 64)\n",
       "┌────────────┬────────────┬───────┬────────────┬───┬───────────┬───────────┬───────────┬───────────┐\n",
       "│ Theme Camp ┆ Neighborho ┆ Index ┆ Total Camp ┆ … ┆ Art       ┆ AP#4 Info ┆ Art       ┆ AP#5 Info │\n",
       "│ Name       ┆ od         ┆ ---   ┆ Members    ┆   ┆ Project   ┆ ---       ┆ Project   ┆ ---       │\n",
       "│ ---        ┆ ---        ┆ i64   ┆ ---        ┆   ┆ #4        ┆ str       ┆ #5        ┆ str       │\n",
       "│ str        ┆ str        ┆       ┆ i64        ┆   ┆ ---       ┆           ┆ ---       ┆           │\n",
       "│            ┆            ┆       ┆            ┆   ┆ str       ┆           ┆ str       ┆           │\n",
       "╞════════════╪════════════╪═══════╪════════════╪═══╪═══════════╪═══════════╪═══════════╪═══════════╡\n",
       "│ 3rd Aid    ┆ Corner     ┆ 3     ┆ 36         ┆ … ┆ null      ┆ null      ┆ null      ┆ null      │\n",
       "│            ┆ Pocket     ┆       ┆            ┆   ┆           ┆           ┆           ┆           │\n",
       "│ 6 Raccoons ┆ Corner     ┆ 4     ┆ 6          ┆ … ┆ null      ┆ null      ┆ null      ┆ null      │\n",
       "│ in a       ┆ Pocket     ┆       ┆            ┆   ┆           ┆           ┆           ┆           │\n",
       "│ Trenchcoat ┆            ┆       ┆            ┆   ┆           ┆           ┆           ┆           │\n",
       "│ Bacchanali ┆ Corner     ┆ 7     ┆ 16         ┆ … ┆ Fat       ┆ No        ┆ null      ┆ null      │\n",
       "│ a          ┆ Pocket     ┆       ┆            ┆   ┆ Bottom    ┆ Options   ┆           ┆           │\n",
       "│            ┆            ┆       ┆            ┆   ┆ Booty     ┆ Apply     ┆           ┆           │\n",
       "│            ┆            ┆       ┆            ┆   ┆ Prints    ┆           ┆           ┆           │\n",
       "│ Big Spooky ┆ Field of   ┆ 11    ┆ 13         ┆ … ┆ null      ┆ null      ┆ null      ┆ null      │\n",
       "│ Energy     ┆ Visions    ┆       ┆            ┆   ┆           ┆           ┆           ┆           │\n",
       "│ Blood      ┆ Corner     ┆ 12    ┆ 15         ┆ … ┆ null      ┆ null      ┆ null      ┆ null      │\n",
       "│ Drive      ┆ Pocket     ┆       ┆            ┆   ┆           ┆           ┆           ┆           │\n",
       "│ …          ┆ …          ┆ …     ┆ …          ┆ … ┆ …         ┆ …         ┆ …         ┆ …         │\n",
       "│ S.S.       ┆ The        ┆ 102   ┆ 12         ┆ … ┆ null      ┆ null      ┆ null      ┆ null      │\n",
       "│ Friendship ┆ Sunglade   ┆       ┆            ┆   ┆           ┆           ┆           ┆           │\n",
       "│ Traveling  ┆ The        ┆ 134   ┆ 4          ┆ … ┆ null      ┆ null      ┆ null      ┆ null      │\n",
       "│ Tinker     ┆ Sunglade   ┆       ┆            ┆   ┆           ┆           ┆           ┆           │\n",
       "│ Camp       ┆            ┆       ┆            ┆   ┆           ┆           ┆           ┆           │\n",
       "│ Zip-Tie    ┆ The        ┆ 145   ┆ 8          ┆ … ┆ null      ┆ null      ┆ null      ┆ null      │\n",
       "│ Hexagons   ┆ Sunglade   ┆       ┆            ┆   ┆           ┆           ┆           ┆           │\n",
       "│ Raised by  ┆ null       ┆ 98    ┆ 23         ┆ … ┆ null      ┆ null      ┆ null      ┆ null      │\n",
       "│ Raccoons   ┆            ┆       ┆            ┆   ┆           ┆           ┆           ┆           │\n",
       "│ Timey      ┆ null       ┆ 133   ┆ 4          ┆ … ┆ null      ┆ null      ┆ null      ┆ null      │\n",
       "│ Wimey      ┆            ┆       ┆            ┆   ┆           ┆           ┆           ┆           │\n",
       "└────────────┴────────────┴───────┴────────────┴───┴───────────┴───────────┴───────────┴───────────┘"
      ],
      "text/html": [
       "<div><style>\n",
       ".dataframe > thead > tr,\n",
       ".dataframe > tbody > tr {\n",
       "  text-align: right;\n",
       "  white-space: pre-wrap;\n",
       "}\n",
       "</style>\n",
       "<small>shape: (141, 64)</small><table border=\"1\" class=\"dataframe\"><thead><tr><th>Theme Camp Name</th><th>Neighborhood</th><th>       Index</th><th>Total Camp Members</th><th>Are there minors in your camp?</th><th>Rate your Kid Friendliness</th><th>What type of Camp are you?</th><th>Theme - Food</th><th>Theme - Sound</th><th>Theme - Party</th><th>Theme - Fire</th><th>Theme - Wellness/Spiritual</th><th>Theme - Chill</th><th>Theme - Education</th><th>Theme - Kid Friendly</th><th>Village Members </th><th>Minimum Width (ft)</th><th>Minimum Depth (ft)</th><th>Preferred Width (ft)</th><th>Preferred Depth (ft)</th><th>totalsqft (preferred)</th><th>Largest Immovable Object Name</th><th>LIO Width (ft)</th><th>LIO Depth (ft)</th><th>LIO #2 Name</th><th>LIO #2 Width (ft)</th><th>LIO #2 Depth (ft)</th><th>LIO #3 Name</th><th>LIO #3 Width (ft)</th><th>LIO #3 Depth (ft)</th><th>How many Cars / Trucks</th><th>How many RVs / Trailers</th><th>Accessibility accommodations?</th><th>nature of accomodation request(s)</th><th>porto placement</th><th>shuttle stop placement</th><th>How many generators?</th><th>Sound Level (1-6)</th><th>What kind of Sound do you have?</th><th>What kind of Lighting do you have?</th><th>Sound Zones willing to be in (colored by loudest zone)</th><th>sound zone loudest pref</th><th>GenPref (Flat Ground)</th><th>General Placement Preference (Quieter Area)</th><th>General Placement Preference (Heavy Foot Traffic)</th><th>General Placement Preference (Near Art Burn &amp; Center Village)</th><th>General Placement Preference (Near Effigy)</th><th>General Placement Preference (Near Temple)</th><th>General Placement Preference (Near Camps of Similar Themes)</th><th>General Placement Preference (Short Walk to Sound Camps)</th><th>General Placement Preference (in order of preference)</th><th>Hosting a Mutant Vehicle or Art Car?</th><th>Will register MV Agreement</th><th>How many Art Projects?</th><th>Art Project #1</th><th>AP#1 Info</th><th>Art Project #2</th><th>AP#2 Info</th><th>Art Project #3</th><th>AP#3 Info</th><th>Art Project #4</th><th>AP#4 Info</th><th>Art Project #5</th><th>AP#5 Info</th></tr><tr><td>str</td><td>str</td><td>i64</td><td>i64</td><td>str</td><td>str</td><td>str</td><td>bool</td><td>bool</td><td>bool</td><td>bool</td><td>bool</td><td>bool</td><td>bool</td><td>bool</td><td>str</td><td>f64</td><td>i64</td><td>f64</td><td>i64</td><td>i64</td><td>str</td><td>i64</td><td>i64</td><td>str</td><td>i64</td><td>i64</td><td>str</td><td>f64</td><td>i64</td><td>i64</td><td>i64</td><td>str</td><td>str</td><td>str</td><td>str</td><td>i64</td><td>str</td><td>str</td><td>str</td><td>str</td><td>str</td><td>bool</td><td>bool</td><td>bool</td><td>bool</td><td>bool</td><td>bool</td><td>bool</td><td>bool</td><td>str</td><td>str</td><td>str</td><td>i64</td><td>str</td><td>str</td><td>str</td><td>str</td><td>str</td><td>str</td><td>str</td><td>str</td><td>str</td><td>str</td></tr></thead><tbody><tr><td>&quot;3rd Aid&quot;</td><td>&quot;Corner Pocket&quot;</td><td>3</td><td>36</td><td>&quot;No&quot;</td><td>&quot;Yellow&quot;</td><td>&quot;Outward&quot;</td><td>false</td><td>false</td><td>false</td><td>false</td><td>true</td><td>true</td><td>true</td><td>false</td><td>&quot;Village - Duckburg: 3rd Aid / …</td><td>80.0</td><td>190</td><td>80.0</td><td>190</td><td>15200</td><td>&quot;Canopy Tent&quot;</td><td>45</td><td>45</td><td>null</td><td>null</td><td>null</td><td>null</td><td>null</td><td>null</td><td>2</td><td>0</td><td>&quot;Yes&quot;</td><td>&quot;Several handy-capable members.…</td><td>&quot;porto-near&quot;</td><td>null</td><td>2</td><td>&quot;-&quot;</td><td>&quot;Quiet Camp&quot;</td><td>&quot;Moderate light levels, but no …</td><td>&quot;Zone 2 - Amplified sound is cu…</td><td>&quot;Zone 2&quot;</td><td>true</td><td>false</td><td>true</td><td>false</td><td>false</td><td>false</td><td>false</td><td>true</td><td>&quot;Flat Ground, Heavy Foot Traffi…</td><td>&quot;No&quot;</td><td>null</td><td>null</td><td>null</td><td>null</td><td>null</td><td>null</td><td>null</td><td>null</td><td>null</td><td>null</td><td>null</td><td>null</td></tr><tr><td>&quot;6 Raccoons in a Trenchcoat&quot;</td><td>&quot;Corner Pocket&quot;</td><td>4</td><td>6</td><td>&quot;No&quot;</td><td>&quot;Yellow&quot;</td><td>&quot;Inward&quot;</td><td>false</td><td>false</td><td>false</td><td>false</td><td>false</td><td>true</td><td>false</td><td>false</td><td>null</td><td>30.0</td><td>60</td><td>30.0</td><td>75</td><td>2250</td><td>&quot;Camp Canopy&quot;</td><td>10</td><td>20</td><td>null</td><td>null</td><td>null</td><td>null</td><td>null</td><td>null</td><td>1</td><td>0</td><td>&quot;No&quot;</td><td>null</td><td>null</td><td>null</td><td>null</td><td>&quot;-&quot;</td><td>&quot;Quiet Camp&quot;</td><td>&quot;Low lighting within camp for v…</td><td>&quot;Zone 1 - Amplified sound is cu…</td><td>&quot;Zone 1&quot;</td><td>true</td><td>true</td><td>false</td><td>true</td><td>false</td><td>false</td><td>false</td><td>false</td><td>&quot;Near Art Burn, Flat Ground, Qu…</td><td>&quot;No&quot;</td><td>null</td><td>null</td><td>null</td><td>null</td><td>null</td><td>null</td><td>null</td><td>null</td><td>null</td><td>null</td><td>null</td><td>null</td></tr><tr><td>&quot;Bacchanalia&quot;</td><td>&quot;Corner Pocket&quot;</td><td>7</td><td>16</td><td>&quot;No&quot;</td><td>&quot;Red&quot;</td><td>&quot;Outward&quot;</td><td>true</td><td>false</td><td>false</td><td>false</td><td>true</td><td>true</td><td>false</td><td>false</td><td>null</td><td>60.0</td><td>100</td><td>60.0</td><td>120</td><td>7200</td><td>&quot;party tent&quot;</td><td>40</td><td>20</td><td>&quot;party tent&quot;</td><td>20</td><td>20</td><td>null</td><td>null</td><td>null</td><td>1</td><td>0</td><td>&quot;No&quot;</td><td>null</td><td>null</td><td>null</td><td>2</td><td>&quot;-&quot;</td><td>&quot;Quiet Camp&quot;</td><td>&quot;Moderate light levels, but no …</td><td>&quot;Zone 1 - Amplified sound is cu…</td><td>&quot;Zone 1&quot;</td><td>true</td><td>true</td><td>true</td><td>false</td><td>false</td><td>false</td><td>false</td><td>false</td><td>&quot;Flat Ground, Heavy Foot Traffi…</td><td>&quot;No&quot;</td><td>null</td><td>4</td><td>&quot;Human Charcuterie&quot;</td><td>&quot;No Options Apply&quot;</td><td>&quot;Desserts after Dark&quot;</td><td>&quot;No Options Apply&quot;</td><td>&quot;Menstruation Station&quot;</td><td>&quot;No Options Apply&quot;</td><td>&quot;Fat Bottom Booty Prints&quot;</td><td>&quot;No Options Apply&quot;</td><td>null</td><td>null</td></tr><tr><td>&quot;Big Spooky Energy&quot;</td><td>&quot;Field of Visions&quot;</td><td>11</td><td>13</td><td>&quot;No&quot;</td><td>&quot;Yellow&quot;</td><td>&quot;Outward&quot;</td><td>true</td><td>false</td><td>false</td><td>false</td><td>false</td><td>true</td><td>false</td><td>false</td><td>&quot;We want to be near DIYkes if p…</td><td>70.0</td><td>120</td><td>70.0</td><td>120</td><td>8400</td><td>&quot;Walk through haunted house&quot;</td><td>20</td><td>30</td><td>null</td><td>null</td><td>null</td><td>null</td><td>null</td><td>null</td><td>1</td><td>1</td><td>&quot;No&quot;</td><td>null</td><td>null</td><td>null</td><td>1</td><td>&quot;-&quot;</td><td>&quot;Chill Sound Camp&quot;</td><td>&quot;Moderate light levels, but no …</td><td>&quot;Zone 2 - Amplified sound is cu…</td><td>&quot;Zone 2&quot;</td><td>true</td><td>false</td><td>true</td><td>false</td><td>false</td><td>false</td><td>false</td><td>false</td><td>&quot;Heavy Foot Traffic, Flat Groun…</td><td>&quot;Yes&quot;</td><td>&quot;Okay, I&#x27;ll register it&quot;</td><td>1</td><td>&quot;Cooking with Big Spooky Energy…</td><td>&quot;Funded by Art Grant&quot;</td><td>null</td><td>null</td><td>null</td><td>null</td><td>null</td><td>null</td><td>null</td><td>null</td></tr><tr><td>&quot;Blood Drive&quot;</td><td>&quot;Corner Pocket&quot;</td><td>12</td><td>15</td><td>&quot;No&quot;</td><td>&quot;Yellow&quot;</td><td>&quot;Outward&quot;</td><td>true</td><td>false</td><td>false</td><td>false</td><td>false</td><td>true</td><td>true</td><td>false</td><td>null</td><td>35.0</td><td>60</td><td>40.0</td><td>65</td><td>2600</td><td>&quot;20x20 canopy&quot;</td><td>20</td><td>20</td><td>null</td><td>null</td><td>null</td><td>null</td><td>null</td><td>null</td><td>null</td><td>null</td><td>&quot;No&quot;</td><td>null</td><td>null</td><td>null</td><td>1</td><td>&quot;-&quot;</td><td>&quot;Chill Sound Camp&quot;</td><td>&quot;Moderate light levels, but no …</td><td>&quot;Zone 2 - Amplified sound is cu…</td><td>&quot;Zone 3&quot;</td><td>true</td><td>false</td><td>true</td><td>false</td><td>false</td><td>false</td><td>false</td><td>true</td><td>&quot;Heavy Foot Traffic, Flat Groun…</td><td>&quot;No&quot;</td><td>null</td><td>null</td><td>null</td><td>null</td><td>null</td><td>null</td><td>null</td><td>null</td><td>null</td><td>null</td><td>null</td><td>null</td></tr><tr><td>&hellip;</td><td>&hellip;</td><td>&hellip;</td><td>&hellip;</td><td>&hellip;</td><td>&hellip;</td><td>&hellip;</td><td>&hellip;</td><td>&hellip;</td><td>&hellip;</td><td>&hellip;</td><td>&hellip;</td><td>&hellip;</td><td>&hellip;</td><td>&hellip;</td><td>&hellip;</td><td>&hellip;</td><td>&hellip;</td><td>&hellip;</td><td>&hellip;</td><td>&hellip;</td><td>&hellip;</td><td>&hellip;</td><td>&hellip;</td><td>&hellip;</td><td>&hellip;</td><td>&hellip;</td><td>&hellip;</td><td>&hellip;</td><td>&hellip;</td><td>&hellip;</td><td>&hellip;</td><td>&hellip;</td><td>&hellip;</td><td>&hellip;</td><td>&hellip;</td><td>&hellip;</td><td>&hellip;</td><td>&hellip;</td><td>&hellip;</td><td>&hellip;</td><td>&hellip;</td><td>&hellip;</td><td>&hellip;</td><td>&hellip;</td><td>&hellip;</td><td>&hellip;</td><td>&hellip;</td><td>&hellip;</td><td>&hellip;</td><td>&hellip;</td><td>&hellip;</td><td>&hellip;</td><td>&hellip;</td><td>&hellip;</td><td>&hellip;</td><td>&hellip;</td><td>&hellip;</td><td>&hellip;</td><td>&hellip;</td><td>&hellip;</td><td>&hellip;</td><td>&hellip;</td><td>&hellip;</td></tr><tr><td>&quot;S.S. Friendship&quot;</td><td>&quot;The Sunglade&quot;</td><td>102</td><td>12</td><td>&quot;No&quot;</td><td>&quot;Yellow&quot;</td><td>&quot;Outward&quot;</td><td>false</td><td>false</td><td>false</td><td>false</td><td>false</td><td>true</td><td>false</td><td>false</td><td>null</td><td>55.0</td><td>55</td><td>60.0</td><td>60</td><td>3600</td><td>&quot;Kitchen&quot;</td><td>10</td><td>20</td><td>null</td><td>null</td><td>null</td><td>null</td><td>null</td><td>null</td><td>0</td><td>2</td><td>&quot;No&quot;</td><td>null</td><td>null</td><td>null</td><td>1</td><td>&quot;-&quot;</td><td>&quot;Chill Sound Camp&quot;</td><td>&quot;Low lighting within camp for v…</td><td>&quot;Zone 2 - Amplified sound is cu…</td><td>&quot;Zone 2&quot;</td><td>true</td><td>false</td><td>true</td><td>false</td><td>false</td><td>false</td><td>true</td><td>false</td><td>&quot;Near Camps of Similar Themes, …</td><td>&quot;No&quot;</td><td>null</td><td>null</td><td>null</td><td>null</td><td>null</td><td>null</td><td>null</td><td>null</td><td>null</td><td>null</td><td>null</td><td>null</td></tr><tr><td>&quot;Traveling Tinker Camp&quot;</td><td>&quot;The Sunglade&quot;</td><td>134</td><td>4</td><td>&quot;No&quot;</td><td>&quot;Yellow&quot;</td><td>&quot;Bedroom&quot;</td><td>false</td><td>false</td><td>false</td><td>false</td><td>false</td><td>false</td><td>true</td><td>false</td><td>null</td><td>30.0</td><td>30</td><td>30.0</td><td>50</td><td>1500</td><td>&quot;RV+Door Access&quot;</td><td>15</td><td>30</td><td>null</td><td>null</td><td>null</td><td>null</td><td>null</td><td>null</td><td>1</td><td>1</td><td>&quot;No&quot;</td><td>null</td><td>null</td><td>null</td><td>null</td><td>&quot;-&quot;</td><td>&quot;Quiet Camp&quot;</td><td>&quot;Low lighting within camp for v…</td><td>&quot;Zone 1 - Amplified sound is cu…</td><td>&quot;Zone 1&quot;</td><td>true</td><td>true</td><td>false</td><td>false</td><td>false</td><td>false</td><td>false</td><td>false</td><td>&quot;Quieter Area, Flat Ground&quot;</td><td>&quot;No&quot;</td><td>null</td><td>null</td><td>null</td><td>null</td><td>null</td><td>null</td><td>null</td><td>null</td><td>null</td><td>null</td><td>null</td><td>null</td></tr><tr><td>&quot;Zip-Tie Hexagons&quot;</td><td>&quot;The Sunglade&quot;</td><td>145</td><td>8</td><td>&quot;No&quot;</td><td>&quot;Yellow&quot;</td><td>&quot;Outward&quot;</td><td>false</td><td>true</td><td>false</td><td>false</td><td>false</td><td>true</td><td>true</td><td>false</td><td>null</td><td>35.0</td><td>45</td><td>50.0</td><td>60</td><td>3000</td><td>&quot;Dance floor and DJ booth&quot;</td><td>10</td><td>20</td><td>null</td><td>null</td><td>null</td><td>null</td><td>null</td><td>null</td><td>1</td><td>0</td><td>&quot;No&quot;</td><td>null</td><td>null</td><td>null</td><td>1</td><td>&quot;-&quot;</td><td>&quot;Chill Sound Camp&quot;</td><td>&quot;Moderate light levels, but no …</td><td>&quot;Zone 1 - Amplified sound is cu…</td><td>&quot;Zone 1&quot;</td><td>true</td><td>true</td><td>false</td><td>false</td><td>false</td><td>false</td><td>false</td><td>false</td><td>&quot;Flat Ground, Quieter Area&quot;</td><td>&quot;No&quot;</td><td>null</td><td>null</td><td>null</td><td>null</td><td>null</td><td>null</td><td>null</td><td>null</td><td>null</td><td>null</td><td>null</td><td>null</td></tr><tr><td>&quot;Raised by Raccoons&quot;</td><td>null</td><td>98</td><td>23</td><td>&quot;No&quot;</td><td>&quot;Yellow&quot;</td><td>&quot;Inward&quot;</td><td>false</td><td>false</td><td>true</td><td>false</td><td>false</td><td>true</td><td>false</td><td>false</td><td>&quot;Raised by Raccoons, DIYkes, Qu…</td><td>60.0</td><td>66</td><td>70.0</td><td>70</td><td>4900</td><td>&quot;double FR shade structure&quot;</td><td>40</td><td>40</td><td>null</td><td>null</td><td>null</td><td>null</td><td>null</td><td>null</td><td>null</td><td>null</td><td>&quot;No&quot;</td><td>null</td><td>null</td><td>null</td><td>1</td><td>&quot;-&quot;</td><td>&quot;Chill Sound Camp&quot;</td><td>&quot;Moderate light levels, but no …</td><td>&quot;Zone 2 - Amplified sound is cu…</td><td>&quot;Zone 2&quot;</td><td>true</td><td>false</td><td>true</td><td>false</td><td>false</td><td>false</td><td>true</td><td>false</td><td>&quot;Flat Ground, Near Camps of Sim…</td><td>&quot;No&quot;</td><td>null</td><td>null</td><td>null</td><td>null</td><td>null</td><td>null</td><td>null</td><td>null</td><td>null</td><td>null</td><td>null</td><td>null</td></tr><tr><td>&quot;Timey Wimey&quot;</td><td>null</td><td>133</td><td>4</td><td>&quot;No&quot;</td><td>&quot;Yellow&quot;</td><td>&quot;Outward&quot;</td><td>true</td><td>false</td><td>false</td><td>true</td><td>false</td><td>true</td><td>false</td><td>false</td><td>null</td><td>20.0</td><td>30</td><td>25.0</td><td>40</td><td>1000</td><td>&quot;12x12 pop up shade tent &quot;</td><td>12</td><td>12</td><td>null</td><td>null</td><td>null</td><td>null</td><td>null</td><td>null</td><td>null</td><td>null</td><td>&quot;No&quot;</td><td>null</td><td>null</td><td>null</td><td>null</td><td>&quot;-&quot;</td><td>&quot;Chill Sound Camp&quot;</td><td>&quot;Low lighting within camp for v…</td><td>&quot;Zone 3 - No sound restrictions…</td><td>&quot;Zone 3&quot;</td><td>false</td><td>false</td><td>true</td><td>true</td><td>false</td><td>false</td><td>false</td><td>true</td><td>&quot;Short Walk to Sound Camps, Hea…</td><td>&quot;No&quot;</td><td>null</td><td>null</td><td>null</td><td>null</td><td>null</td><td>null</td><td>null</td><td>null</td><td>null</td><td>null</td><td>null</td><td>null</td></tr></tbody></table></div>"
      ]
     },
     "execution_count": 32,
     "metadata": {},
     "output_type": "execute_result"
    }
   ],
   "execution_count": 32
  },
  {
   "metadata": {
    "ExecuteTime": {
     "end_time": "2025-09-23T01:30:00.499487Z",
     "start_time": "2025-09-23T01:30:00.493237Z"
    }
   },
   "cell_type": "code",
   "source": "df_subset.write_csv('filtered_camp_cols',include_header=True)",
   "id": "a60b6a6751d9105c",
   "outputs": [],
   "execution_count": 33
  }
 ],
 "metadata": {
  "kernelspec": {
   "display_name": "Python 3",
   "language": "python",
   "name": "python3"
  },
  "language_info": {
   "codemirror_mode": {
    "name": "ipython",
    "version": 2
   },
   "file_extension": ".py",
   "mimetype": "text/x-python",
   "name": "python",
   "nbconvert_exporter": "python",
   "pygments_lexer": "ipython2",
   "version": "2.7.6"
  }
 },
 "nbformat": 4,
 "nbformat_minor": 5
}
