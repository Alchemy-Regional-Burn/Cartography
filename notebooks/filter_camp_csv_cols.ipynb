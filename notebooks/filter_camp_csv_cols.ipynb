{
 "cells": [
  {
   "metadata": {
    "collapsed": true
   },
   "cell_type": "markdown",
   "source": [
    "# Filtering columns in theme camp CSV exported from spreadsheet\n",
    "The theme camp information is captured from Google forms in a spreadsheet.  This spreadsheet contains columns that need to be merged into the theme camp polygon attribute table to allow for creating specialized maps, such as camp population chloropeths, showing distribution of inward vs. outward facing camps, and indicating closeness to budgeted square footage.\n",
    "\n",
    "A CSV file is exported from that Excel spreadsheet, but it contains fields that we don't want in the theme camp attribute table, particularly fields that contain personally identifiable information (PII), such as phone numbers and email addresses.  There are also a number of other fields that are irrelevant to making maps.\n",
    "\n",
    "This notebook filters for the fields we *want* and creates a CSV file from which we can then import into the theme camp layer."
   ],
   "id": "d7f998edc8153e82"
  },
  {
   "metadata": {
    "ExecuteTime": {
     "end_time": "2025-09-23T00:47:05.849410Z",
     "start_time": "2025-09-23T00:47:05.847490Z"
    }
   },
   "cell_type": "code",
   "source": [
    "import polars as pl\n",
    "from win32cryptcon import ALG_SID_AES_256"
   ],
   "id": "66ad92a0455183a",
   "outputs": [],
   "execution_count": 2
  },
  {
   "metadata": {
    "ExecuteTime": {
     "end_time": "2025-09-23T00:51:31.530550Z",
     "start_time": "2025-09-23T00:51:31.527207Z"
    }
   },
   "cell_type": "code",
   "source": "pwd",
   "id": "50880a37178695e6",
   "outputs": [
    {
     "data": {
      "text/plain": [
       "'C:\\\\Users\\\\mcole\\\\OneDrive\\\\Projects\\\\Cartography\\\\notebooks'"
      ]
     },
     "execution_count": 5,
     "metadata": {},
     "output_type": "execute_result"
    }
   ],
   "execution_count": 5
  },
  {
   "metadata": {
    "ExecuteTime": {
     "end_time": "2025-09-23T00:55:19.310926Z",
     "start_time": "2025-09-23T00:55:19.291946Z"
    }
   },
   "cell_type": "code",
   "source": "ls \"..\\..\\..\\Desktop\\A25 Theme Camp Registration - NorthStar(TCReg Info).csv\"",
   "id": "24ba13933d9a5ce0",
   "outputs": [
    {
     "name": "stdout",
     "output_type": "stream",
     "text": [
      " Volume in drive C is Windows\n",
      " Volume Serial Number is 0E07-5E4B\n",
      "\n",
      " Directory of C:\\Users\\mcole\\OneDrive\\Desktop\n",
      "\n",
      "09/21/2025  11:40 PM           297,945 A25 Theme Camp Registration - NorthStar(TCReg Info).csv\n",
      "               1 File(s)        297,945 bytes\n",
      "               0 Dir(s)  1,054,923,296,768 bytes free\n"
     ]
    }
   ],
   "execution_count": 22
  },
  {
   "metadata": {
    "ExecuteTime": {
     "end_time": "2025-09-23T00:55:58.154492Z",
     "start_time": "2025-09-23T00:55:58.146211Z"
    }
   },
   "cell_type": "code",
   "source": "df = pl.read_csv(\"..\\..\\..\\Desktop\\A25 Theme Camp Registration - NorthStar(TCReg Info).csv\", has_header=True)",
   "id": "cbc42f3a4a5c835d",
   "outputs": [
    {
     "name": "stderr",
     "output_type": "stream",
     "text": [
      "<>:1: SyntaxWarning: invalid escape sequence '\\.'\n",
      "<>:1: SyntaxWarning: invalid escape sequence '\\.'\n",
      "C:\\Users\\mcole\\AppData\\Local\\Temp\\ipykernel_15144\\2181091960.py:1: SyntaxWarning: invalid escape sequence '\\.'\n",
      "  df = pl.read_csv(\"..\\..\\..\\Desktop\\A25 Theme Camp Registration - NorthStar(TCReg Info).csv\", has_header=True)\n"
     ]
    }
   ],
   "execution_count": 23
  },
  {
   "metadata": {
    "ExecuteTime": {
     "end_time": "2025-09-23T00:56:07.626960Z",
     "start_time": "2025-09-23T00:56:07.621183Z"
    }
   },
   "cell_type": "code",
   "source": "df",
   "id": "c23d6f1033600e3a",
   "outputs": [
    {
     "data": {
      "text/plain": [
       "shape: (141, 193)\n",
       "┌────────────┬────────────┬───────┬────────────┬───┬───────────┬───────────┬───────────┬───────────┐\n",
       "│ Theme Camp ┆ Neighborho ┆ Index ┆ Jess       ┆ … ┆ _duplicat ┆ _duplicat ┆ _duplicat ┆ _duplicat │\n",
       "│ Name       ┆ od         ┆ ---   ┆ collection ┆   ┆ ed_67     ┆ ed_68     ┆ ed_69     ┆ ed_70     │\n",
       "│ ---        ┆ ---        ┆ i64   ┆ :P         ┆   ┆ ---       ┆ ---       ┆ ---       ┆ ---       │\n",
       "│ str        ┆ str        ┆       ┆ ---        ┆   ┆ str       ┆ str       ┆ str       ┆ str       │\n",
       "│            ┆            ┆       ┆ str        ┆   ┆           ┆           ┆           ┆           │\n",
       "╞════════════╪════════════╪═══════╪════════════╪═══╪═══════════╪═══════════╪═══════════╪═══════════╡\n",
       "│ 3rd Aid    ┆ Corner     ┆ 3     ┆ Wellness/S ┆ … ┆ null      ┆ null      ┆ null      ┆ null      │\n",
       "│            ┆ Pocket     ┆       ┆ piritual,  ┆   ┆           ┆           ┆           ┆           │\n",
       "│            ┆            ┆       ┆ Chill,     ┆   ┆           ┆           ┆           ┆           │\n",
       "│            ┆            ┆       ┆ Edu…       ┆   ┆           ┆           ┆           ┆           │\n",
       "│ 6 Raccoons ┆ Corner     ┆ 4     ┆ Chill   |  ┆ … ┆ null      ┆ null      ┆ null      ┆ null      │\n",
       "│ in a       ┆ Pocket     ┆       ┆ Zone 1   | ┆   ┆           ┆           ┆           ┆           │\n",
       "│ Trenchcoat ┆            ┆       ┆ Quiet…     ┆   ┆           ┆           ┆           ┆           │\n",
       "│ Bacchanali ┆ Corner     ┆ 7     ┆ Food,      ┆ … ┆ null      ┆ null      ┆ null      ┆ null      │\n",
       "│ a          ┆ Pocket     ┆       ┆ Chill, Wel ┆   ┆           ┆           ┆           ┆           │\n",
       "│            ┆            ┆       ┆ lness/Spir ┆   ┆           ┆           ┆           ┆           │\n",
       "│            ┆            ┆       ┆ itua…      ┆   ┆           ┆           ┆           ┆           │\n",
       "│ Big Spooky ┆ Field of   ┆ 11    ┆ Food,      ┆ … ┆ null      ┆ null      ┆ null      ┆ null      │\n",
       "│ Energy     ┆ Visions    ┆       ┆ Chill   |  ┆   ┆           ┆           ┆           ┆           │\n",
       "│            ┆            ┆       ┆ Zone 2   | ┆   ┆           ┆           ┆           ┆           │\n",
       "│            ┆            ┆       ┆ …          ┆   ┆           ┆           ┆           ┆           │\n",
       "│ Blood      ┆ Corner     ┆ 12    ┆ Chill,     ┆ … ┆ null      ┆ null      ┆ null      ┆ null      │\n",
       "│ Drive      ┆ Pocket     ┆       ┆ Food,      ┆   ┆           ┆           ┆           ┆           │\n",
       "│            ┆            ┆       ┆ Education  ┆   ┆           ┆           ┆           ┆           │\n",
       "│            ┆            ┆       ┆ |   Z…     ┆   ┆           ┆           ┆           ┆           │\n",
       "│ …          ┆ …          ┆ …     ┆ …          ┆ … ┆ …         ┆ …         ┆ …         ┆ …         │\n",
       "│ S.S.       ┆ The        ┆ 102   ┆ Chill   |  ┆ … ┆ null      ┆ null      ┆ null      ┆ null      │\n",
       "│ Friendship ┆ Sunglade   ┆       ┆ Zone 2   | ┆   ┆           ┆           ┆           ┆           │\n",
       "│            ┆            ┆       ┆ Chill…     ┆   ┆           ┆           ┆           ┆           │\n",
       "│ Traveling  ┆ The        ┆ 134   ┆ Education  ┆ … ┆ null      ┆ null      ┆ null      ┆ null      │\n",
       "│ Tinker     ┆ Sunglade   ┆       ┆ |   Zone 1 ┆   ┆           ┆           ┆           ┆           │\n",
       "│ Camp       ┆            ┆       ┆ |   Q…     ┆   ┆           ┆           ┆           ┆           │\n",
       "│ Zip-Tie    ┆ The        ┆ 145   ┆ Chill,     ┆ … ┆ null      ┆ null      ┆ null      ┆ null      │\n",
       "│ Hexagons   ┆ Sunglade   ┆       ┆ Sound,     ┆   ┆           ┆           ┆           ┆           │\n",
       "│            ┆            ┆       ┆ Education  ┆   ┆           ┆           ┆           ┆           │\n",
       "│            ┆            ┆       ┆ |   …      ┆   ┆           ┆           ┆           ┆           │\n",
       "│ Raised by  ┆ null       ┆ 98    ┆ Chill,     ┆ … ┆ null      ┆ null      ┆ null      ┆ null      │\n",
       "│ Raccoons   ┆            ┆       ┆ Party   |  ┆   ┆           ┆           ┆           ┆           │\n",
       "│            ┆            ┆       ┆ Zone 2   | ┆   ┆           ┆           ┆           ┆           │\n",
       "│            ┆            ┆       ┆ …          ┆   ┆           ┆           ┆           ┆           │\n",
       "│ Timey      ┆ null       ┆ 133   ┆ Fire,      ┆ … ┆ null      ┆ null      ┆ null      ┆ null      │\n",
       "│ Wimey      ┆            ┆       ┆ Chill,     ┆   ┆           ┆           ┆           ┆           │\n",
       "│            ┆            ┆       ┆ Food   |   ┆   ┆           ┆           ┆           ┆           │\n",
       "│            ┆            ┆       ┆ Zone 3…    ┆   ┆           ┆           ┆           ┆           │\n",
       "└────────────┴────────────┴───────┴────────────┴───┴───────────┴───────────┴───────────┴───────────┘"
      ],
      "text/html": [
       "<div><style>\n",
       ".dataframe > thead > tr,\n",
       ".dataframe > tbody > tr {\n",
       "  text-align: right;\n",
       "  white-space: pre-wrap;\n",
       "}\n",
       "</style>\n",
       "<small>shape: (141, 193)</small><table border=\"1\" class=\"dataframe\"><thead><tr><th>Theme Camp Name</th><th>Neighborhood</th><th>       Index</th><th>Jess collection :P</th><th>N O T E S</th><th>Submission ID</th><th>Respondent ID</th><th>Submitted at</th><th>2024 TCC</th><th>2025 TCC</th><th>       Field</th><th>PlacementReason</th><th>Problems</th><th>deprecatedNeighborhoodCol</th><th>location reason</th><th>TCO Full Name</th><th>TCO Preferred/Burner Name</th><th>TCO Pronouns</th><th>TCO Best Contact Number</th><th>TCO Email</th><th>Do you have a Co-TCO?</th><th>CoTCO Full Name</th><th>CoTCO Preferred/Burner Name</th><th>CoTCO Pronouns</th><th>CoTCO Best Contact Number</th><th>CoTCO Email</th><th>Theme Camp Description</th><th>How many times has your camp been a part of Alchemy?</th><th>Total Camp Members</th><th>Are there minors in your camp?</th><th>Rate your Kid Friendliness</th><th>What type of Camp are you?</th><th>Themes of your Camp</th><th>Theme - Food</th><th>Theme - Sound</th><th>Theme - Party</th><th>Theme - Fire</th><th>&hellip;</th><th>_duplicated_34</th><th>_duplicated_35</th><th>_duplicated_36</th><th>_duplicated_37</th><th>_duplicated_38</th><th>_duplicated_39</th><th>_duplicated_40</th><th>_duplicated_41</th><th>_duplicated_42</th><th>_duplicated_43</th><th>_duplicated_44</th><th>_duplicated_45</th><th>_duplicated_46</th><th>_duplicated_47</th><th>_duplicated_48</th><th>_duplicated_49</th><th>_duplicated_50</th><th>_duplicated_51</th><th>_duplicated_52</th><th>_duplicated_53</th><th>_duplicated_54</th><th>_duplicated_55</th><th>_duplicated_56</th><th>_duplicated_57</th><th>_duplicated_58</th><th>_duplicated_59</th><th>_duplicated_60</th><th>_duplicated_61</th><th>_duplicated_62</th><th>_duplicated_63</th><th>_duplicated_64</th><th>_duplicated_65</th><th>_duplicated_66</th><th>_duplicated_67</th><th>_duplicated_68</th><th>_duplicated_69</th><th>_duplicated_70</th></tr><tr><td>str</td><td>str</td><td>i64</td><td>str</td><td>str</td><td>str</td><td>str</td><td>str</td><td>str</td><td>str</td><td>str</td><td>str</td><td>str</td><td>str</td><td>str</td><td>str</td><td>str</td><td>str</td><td>str</td><td>str</td><td>str</td><td>str</td><td>str</td><td>str</td><td>str</td><td>str</td><td>str</td><td>str</td><td>i64</td><td>str</td><td>str</td><td>str</td><td>str</td><td>bool</td><td>bool</td><td>bool</td><td>bool</td><td>&hellip;</td><td>str</td><td>str</td><td>str</td><td>str</td><td>str</td><td>str</td><td>str</td><td>str</td><td>str</td><td>str</td><td>str</td><td>str</td><td>str</td><td>str</td><td>str</td><td>str</td><td>str</td><td>str</td><td>str</td><td>str</td><td>str</td><td>str</td><td>str</td><td>str</td><td>str</td><td>str</td><td>str</td><td>str</td><td>str</td><td>str</td><td>str</td><td>str</td><td>str</td><td>str</td><td>str</td><td>str</td><td>str</td></tr></thead><tbody><tr><td>&quot;3rd Aid&quot;</td><td>&quot;Corner Pocket&quot;</td><td>3</td><td>&quot;Wellness/Spiritual, Chill, Edu…</td><td>&quot;NOT NEAR CENTER CAMP - FlyerB,…</td><td>&quot;rjdKzvX&quot;</td><td>&quot;oXRWDN&quot;</td><td>&quot;8/3/25 23:53&quot;</td><td>&quot;NONE&quot;</td><td>null</td><td>&quot;BC&quot;</td><td>&quot;put on main path, but had to p…</td><td>null</td><td>&quot;Duckberg&quot;</td><td>null</td><td>&quot;Nicholas McCullar&quot;</td><td>&quot;Stratos&quot;</td><td>&quot;We/them/him&quot;</td><td>&quot;14044304460&quot;</td><td>&quot;namccullar@gmail.com&quot;</td><td>&quot;Yes&quot;</td><td>&quot;Terry Elam&quot;</td><td>&quot;Tasker&quot;</td><td>&quot;He/him&quot;</td><td>&quot;4706966483&quot;</td><td>&quot;havok6854@gmail.com&quot;</td><td>&quot;We host a chill space themed a…</td><td>&quot;Four or more times&quot;</td><td>36</td><td>&quot;No&quot;</td><td>&quot;Yellow&quot;</td><td>&quot;Outward&quot;</td><td>&quot;Wellness/Spiritual, Chill, Edu…</td><td>false</td><td>false</td><td>false</td><td>false</td><td>&hellip;</td><td>null</td><td>null</td><td>null</td><td>null</td><td>null</td><td>null</td><td>null</td><td>null</td><td>null</td><td>null</td><td>null</td><td>null</td><td>null</td><td>null</td><td>null</td><td>null</td><td>null</td><td>null</td><td>null</td><td>null</td><td>null</td><td>null</td><td>null</td><td>null</td><td>null</td><td>null</td><td>null</td><td>null</td><td>null</td><td>null</td><td>null</td><td>null</td><td>null</td><td>null</td><td>null</td><td>null</td><td>null</td></tr><tr><td>&quot;6 Raccoons in a Trenchcoat&quot;</td><td>&quot;Corner Pocket&quot;</td><td>4</td><td>&quot;Chill&nbsp;&nbsp;&nbsp;|&nbsp;&nbsp;&nbsp;Zone 1&nbsp;&nbsp;&nbsp;|&nbsp;&nbsp;&nbsp;Quiet…</td><td>&quot;requesting near rangers due to…</td><td>&quot;J9J8GMY&quot;</td><td>&quot;zPqaKq&quot;</td><td>&quot;8/5/25 1:45&quot;</td><td>&quot;Pyanfar&quot;</td><td>null</td><td>&quot;BC&quot;</td><td>&quot;put near rangers since inward …</td><td>null</td><td>null</td><td>null</td><td>&quot;Jessica Rodgers&quot;</td><td>&quot;Lind&quot;</td><td>&quot;Any&quot;</td><td>&quot;936-661-2592&quot;</td><td>&quot;JRodgers513@gmail.com&quot;</td><td>&quot;No&quot;</td><td>null</td><td>null</td><td>null</td><td>null</td><td>null</td><td>&quot;We&#x27;re absolutely, positively, …</td><td>&quot;One to Three&quot;</td><td>6</td><td>&quot;No&quot;</td><td>&quot;Yellow&quot;</td><td>&quot;Inward&quot;</td><td>&quot;Chill&quot;</td><td>false</td><td>false</td><td>false</td><td>false</td><td>&hellip;</td><td>null</td><td>null</td><td>null</td><td>null</td><td>null</td><td>null</td><td>null</td><td>null</td><td>null</td><td>null</td><td>null</td><td>null</td><td>null</td><td>null</td><td>null</td><td>null</td><td>null</td><td>null</td><td>null</td><td>null</td><td>null</td><td>null</td><td>null</td><td>null</td><td>null</td><td>null</td><td>null</td><td>null</td><td>null</td><td>null</td><td>null</td><td>null</td><td>null</td><td>null</td><td>null</td><td>null</td><td>null</td></tr><tr><td>&quot;Bacchanalia&quot;</td><td>&quot;Corner Pocket&quot;</td><td>7</td><td>&quot;Food, Chill, Wellness/Spiritua…</td><td>&quot;cannot view site plan;\n",
       "facing …</td><td>&quot;44jyxaY&quot;</td><td>&quot;NzpK5j&quot;</td><td>&quot;7/19/25 23:38&quot;</td><td>&quot;FlyerB&quot;</td><td>null</td><td>&quot;BC&quot;</td><td>&quot;Baccchanalia has red kid-frien…</td><td>null</td><td>&quot;Food (Sexy)&quot;</td><td>null</td><td>&quot;Michael Dunston&quot;</td><td>&quot;Bacchus&quot;</td><td>&quot;he/him&quot;</td><td>&quot;2058373088&quot;</td><td>&quot;zombieface967@gmail.com&quot;</td><td>&quot;Yes&quot;</td><td>&quot;Miriya Bollenbacher&quot;</td><td>&quot;n/a&quot;</td><td>&quot;she/her&quot;</td><td>&quot;8657761505&quot;</td><td>&quot;miriyapod@gmail.com&quot;</td><td>&quot;An embrace of Hedonism, Home o…</td><td>&quot;One to Three&quot;</td><td>16</td><td>&quot;No&quot;</td><td>&quot;Red&quot;</td><td>&quot;Outward&quot;</td><td>&quot;Food, Chill, Wellness/Spiritua…</td><td>true</td><td>false</td><td>false</td><td>false</td><td>&hellip;</td><td>null</td><td>null</td><td>null</td><td>null</td><td>null</td><td>null</td><td>null</td><td>null</td><td>null</td><td>null</td><td>null</td><td>null</td><td>null</td><td>null</td><td>null</td><td>null</td><td>null</td><td>null</td><td>null</td><td>null</td><td>null</td><td>null</td><td>null</td><td>null</td><td>null</td><td>null</td><td>null</td><td>null</td><td>null</td><td>null</td><td>null</td><td>null</td><td>null</td><td>null</td><td>null</td><td>null</td><td>null</td></tr><tr><td>&quot;Big Spooky Energy&quot;</td><td>&quot;Field of Visions&quot;</td><td>11</td><td>&quot;Food, Chill&nbsp;&nbsp;&nbsp;|&nbsp;&nbsp;&nbsp;Zone 2&nbsp;&nbsp;&nbsp;|&nbsp;&nbsp;…</td><td>null</td><td>&quot;zxrKp2g&quot;</td><td>&quot;9bZWyV&quot;</td><td>&quot;8/3/25 18:06&quot;</td><td>&quot;Rose&quot;</td><td>null</td><td>&quot;BC&quot;</td><td>null</td><td>null</td><td>&quot;Spooky&quot;</td><td>null</td><td>&quot;Jenny Sehorn &quot;</td><td>&quot;Jenny 7 Names&quot;</td><td>&quot;She/her&quot;</td><td>&quot;4044474349&quot;</td><td>&quot;jennysehorn@gmail.com&quot;</td><td>&quot;Yes&quot;</td><td>&quot;Rebecca Rea &quot;</td><td>&quot;Rebecca &quot;</td><td>&quot;She/her&quot;</td><td>&quot;4046685699&quot;</td><td>&quot;rebecca.m.rea@gmail.com&quot;</td><td>&quot;Come get SpOoOoKy with us! We …</td><td>&quot;One to Three&quot;</td><td>13</td><td>&quot;No&quot;</td><td>&quot;Yellow&quot;</td><td>&quot;Outward&quot;</td><td>&quot;Food, Chill&quot;</td><td>true</td><td>false</td><td>false</td><td>false</td><td>&hellip;</td><td>null</td><td>null</td><td>null</td><td>null</td><td>null</td><td>null</td><td>null</td><td>null</td><td>null</td><td>null</td><td>null</td><td>null</td><td>null</td><td>null</td><td>null</td><td>null</td><td>null</td><td>null</td><td>null</td><td>null</td><td>null</td><td>null</td><td>null</td><td>null</td><td>null</td><td>null</td><td>null</td><td>null</td><td>null</td><td>null</td><td>null</td><td>null</td><td>null</td><td>null</td><td>null</td><td>null</td><td>null</td></tr><tr><td>&quot;Blood Drive&quot;</td><td>&quot;Corner Pocket&quot;</td><td>12</td><td>&quot;Chill, Food, Education&nbsp;&nbsp;&nbsp;|&nbsp;&nbsp;&nbsp;Z…</td><td>null</td><td>&quot;D4NpQMq&quot;</td><td>&quot;DGoG5E&quot;</td><td>&quot;6/16/25 21:57&quot;</td><td>&quot;FlyerB&quot;</td><td>null</td><td>&quot;BC&quot;</td><td>&quot;they have a chill energy and d…</td><td>null</td><td>null</td><td>null</td><td>&quot;John Lampl&quot;</td><td>&quot;Cowboy&quot;</td><td>&quot;He/him&quot;</td><td>&quot;6782064898&quot;</td><td>&quot;johnlampl@gmail.com&quot;</td><td>&quot;Yes&quot;</td><td>&quot;Madison Wolf&quot;</td><td>&quot;Bunnicula&quot;</td><td>&quot;She/Her&quot;</td><td>&quot;+1 (678) 427-4783&quot;</td><td>&quot;potassiunn@gmail.com&quot;</td><td>&quot;&quot;Camp Blood Drive a moody cool…</td><td>&quot;One to Three&quot;</td><td>15</td><td>&quot;No&quot;</td><td>&quot;Yellow&quot;</td><td>&quot;Outward&quot;</td><td>&quot;Chill, Food, Education&quot;</td><td>true</td><td>false</td><td>false</td><td>false</td><td>&hellip;</td><td>null</td><td>null</td><td>null</td><td>null</td><td>null</td><td>null</td><td>null</td><td>null</td><td>null</td><td>null</td><td>null</td><td>null</td><td>null</td><td>null</td><td>null</td><td>null</td><td>null</td><td>null</td><td>null</td><td>null</td><td>null</td><td>null</td><td>null</td><td>null</td><td>null</td><td>null</td><td>null</td><td>null</td><td>null</td><td>null</td><td>null</td><td>null</td><td>null</td><td>null</td><td>null</td><td>null</td><td>null</td></tr><tr><td>&hellip;</td><td>&hellip;</td><td>&hellip;</td><td>&hellip;</td><td>&hellip;</td><td>&hellip;</td><td>&hellip;</td><td>&hellip;</td><td>&hellip;</td><td>&hellip;</td><td>&hellip;</td><td>&hellip;</td><td>&hellip;</td><td>&hellip;</td><td>&hellip;</td><td>&hellip;</td><td>&hellip;</td><td>&hellip;</td><td>&hellip;</td><td>&hellip;</td><td>&hellip;</td><td>&hellip;</td><td>&hellip;</td><td>&hellip;</td><td>&hellip;</td><td>&hellip;</td><td>&hellip;</td><td>&hellip;</td><td>&hellip;</td><td>&hellip;</td><td>&hellip;</td><td>&hellip;</td><td>&hellip;</td><td>&hellip;</td><td>&hellip;</td><td>&hellip;</td><td>&hellip;</td><td>&hellip;</td><td>&hellip;</td><td>&hellip;</td><td>&hellip;</td><td>&hellip;</td><td>&hellip;</td><td>&hellip;</td><td>&hellip;</td><td>&hellip;</td><td>&hellip;</td><td>&hellip;</td><td>&hellip;</td><td>&hellip;</td><td>&hellip;</td><td>&hellip;</td><td>&hellip;</td><td>&hellip;</td><td>&hellip;</td><td>&hellip;</td><td>&hellip;</td><td>&hellip;</td><td>&hellip;</td><td>&hellip;</td><td>&hellip;</td><td>&hellip;</td><td>&hellip;</td><td>&hellip;</td><td>&hellip;</td><td>&hellip;</td><td>&hellip;</td><td>&hellip;</td><td>&hellip;</td><td>&hellip;</td><td>&hellip;</td><td>&hellip;</td><td>&hellip;</td><td>&hellip;</td><td>&hellip;</td></tr><tr><td>&quot;S.S. Friendship&quot;</td><td>&quot;The Sunglade&quot;</td><td>102</td><td>&quot;Chill&nbsp;&nbsp;&nbsp;|&nbsp;&nbsp;&nbsp;Zone 2&nbsp;&nbsp;&nbsp;|&nbsp;&nbsp;&nbsp;Chill…</td><td>null</td><td>&quot;ob7xRae&quot;</td><td>&quot;PVlEM0&quot;</td><td>&quot;8/6/25 0:01&quot;</td><td>&quot;NONE&quot;</td><td>null</td><td>&quot;C&quot;</td><td>&quot;I think they have a cool camp …</td><td>null</td><td>null</td><td>null</td><td>&quot;Claire Yurko&quot;</td><td>&quot;Claire &quot;</td><td>&quot;They/them&quot;</td><td>&quot;4045029352&quot;</td><td>&quot;cyurko1@gmail.com&quot;</td><td>&quot;Yes&quot;</td><td>&quot;Remo Gonzalez&quot;</td><td>&quot;Remo&quot;</td><td>&quot;He/him&quot;</td><td>&quot;(770) 561-3519&quot;</td><td>&quot;remoantonio@gmail.com&quot;</td><td>&quot;Ahoy, matey! Welcome to the S.…</td><td>&quot;Zero - We are brand new&quot;</td><td>12</td><td>&quot;No&quot;</td><td>&quot;Yellow&quot;</td><td>&quot;Outward&quot;</td><td>&quot;Chill&quot;</td><td>false</td><td>false</td><td>false</td><td>false</td><td>&hellip;</td><td>null</td><td>null</td><td>null</td><td>null</td><td>null</td><td>null</td><td>null</td><td>null</td><td>null</td><td>null</td><td>null</td><td>null</td><td>null</td><td>null</td><td>null</td><td>null</td><td>null</td><td>null</td><td>null</td><td>null</td><td>null</td><td>null</td><td>null</td><td>null</td><td>null</td><td>null</td><td>null</td><td>null</td><td>null</td><td>null</td><td>null</td><td>null</td><td>null</td><td>null</td><td>null</td><td>null</td><td>null</td></tr><tr><td>&quot;Traveling Tinker Camp&quot;</td><td>&quot;The Sunglade&quot;</td><td>134</td><td>&quot;Education&nbsp;&nbsp;&nbsp;|&nbsp;&nbsp;&nbsp;Zone 1&nbsp;&nbsp;&nbsp;|&nbsp;&nbsp;&nbsp;Q…</td><td>&quot;YELLOW KID-FRIENDLINESS, near …</td><td>&quot;RGRQ469&quot;</td><td>&quot;89bN1A&quot;</td><td>&quot;7/30/25 2:37&quot;</td><td>&quot;Starla&quot;</td><td>null</td><td>&quot;C&quot;</td><td>&quot;near parking road in case redi…</td><td>null</td><td>&quot;Bedroom&quot;</td><td>null</td><td>&quot;Sean McPherson&quot;</td><td>&quot;Tinker&quot;</td><td>&quot;He/Him&quot;</td><td>&quot;5023459270&quot;</td><td>&quot;seanmcp@gmail.com&quot;</td><td>&quot;No&quot;</td><td>null</td><td>null</td><td>null</td><td>null</td><td>null</td><td>&quot;Hand tools, nuts &amp; bolts, rope…</td><td>&quot;Four or more times&quot;</td><td>4</td><td>&quot;No&quot;</td><td>&quot;Yellow&quot;</td><td>&quot;Bedroom&quot;</td><td>&quot;Education&quot;</td><td>false</td><td>false</td><td>false</td><td>false</td><td>&hellip;</td><td>null</td><td>null</td><td>null</td><td>null</td><td>null</td><td>null</td><td>null</td><td>null</td><td>null</td><td>null</td><td>null</td><td>null</td><td>null</td><td>null</td><td>null</td><td>null</td><td>null</td><td>null</td><td>null</td><td>null</td><td>null</td><td>null</td><td>null</td><td>null</td><td>null</td><td>null</td><td>null</td><td>null</td><td>null</td><td>null</td><td>null</td><td>null</td><td>null</td><td>null</td><td>null</td><td>null</td><td>null</td></tr><tr><td>&quot;Zip-Tie Hexagons&quot;</td><td>&quot;The Sunglade&quot;</td><td>145</td><td>&quot;Chill, Sound, Education&nbsp;&nbsp;&nbsp;|&nbsp;&nbsp;&nbsp;…</td><td>&quot;YELLOW KID-FRIENDLINESS&quot;</td><td>&quot;PdXL7Re&quot;</td><td>&quot;XZR9RL&quot;</td><td>&quot;8/7/25 2:04&quot;</td><td>&quot;NONE&quot;</td><td>null</td><td>&quot;C&quot;</td><td>&quot;pretty quiet sound camp should…</td><td>null</td><td>null</td><td>null</td><td>&quot;Joel&quot;</td><td>&quot;Gripshover&quot;</td><td>&quot;He/Him&quot;</td><td>&quot;(859) 982-5956&quot;</td><td>&quot;joelhypno@gmail.com&quot;</td><td>&quot;Yes&quot;</td><td>&quot;Tesla Hester&quot;</td><td>&quot;Tesla &quot;</td><td>&quot;She/her&quot;</td><td>&quot;+1 (615) 426-3889&quot;</td><td>&quot;teslahester@gmail.com&quot;</td><td>&quot;We celebrate the most importan…</td><td>&quot;Zero - The Camp is new, but th…</td><td>8</td><td>&quot;No&quot;</td><td>&quot;Yellow&quot;</td><td>&quot;Outward&quot;</td><td>&quot;Chill, Sound, Education&quot;</td><td>false</td><td>true</td><td>false</td><td>false</td><td>&hellip;</td><td>null</td><td>null</td><td>null</td><td>null</td><td>null</td><td>null</td><td>null</td><td>null</td><td>null</td><td>null</td><td>null</td><td>null</td><td>null</td><td>null</td><td>null</td><td>null</td><td>null</td><td>null</td><td>null</td><td>null</td><td>null</td><td>null</td><td>null</td><td>null</td><td>null</td><td>null</td><td>null</td><td>null</td><td>null</td><td>null</td><td>null</td><td>null</td><td>null</td><td>null</td><td>null</td><td>null</td><td>null</td></tr><tr><td>&quot;Raised by Raccoons&quot;</td><td>null</td><td>98</td><td>&quot;Chill, Party&nbsp;&nbsp;&nbsp;|&nbsp;&nbsp;&nbsp;Zone 2&nbsp;&nbsp;&nbsp;| …</td><td>null</td><td>&quot;9qEr1M1&quot;</td><td>&quot;j1L7pJ&quot;</td><td>&quot;8/6/25 0:29&quot;</td><td>&quot;NONE&quot;</td><td>null</td><td>&quot;BC&quot;</td><td>null</td><td>null</td><td>null</td><td>null</td><td>&quot;Abigail Miner&quot;</td><td>&quot;Abi&quot;</td><td>&quot;she/her&quot;</td><td>&quot;8287128764&quot;</td><td>&quot;abigailminer@gmail.com&quot;</td><td>&quot;No&quot;</td><td>null</td><td>null</td><td>null</td><td>null</td><td>null</td><td>&quot;Trash!&nbsp;&nbsp;Trash?!?!?&nbsp;&nbsp;TRASH&nbsp;&nbsp;&nbsp;Ga…</td><td>&quot;One to Three&quot;</td><td>23</td><td>&quot;No&quot;</td><td>&quot;Yellow&quot;</td><td>&quot;Inward&quot;</td><td>&quot;Chill, Party&quot;</td><td>false</td><td>false</td><td>true</td><td>false</td><td>&hellip;</td><td>null</td><td>null</td><td>null</td><td>null</td><td>null</td><td>null</td><td>null</td><td>null</td><td>null</td><td>null</td><td>null</td><td>null</td><td>null</td><td>null</td><td>null</td><td>null</td><td>null</td><td>null</td><td>null</td><td>null</td><td>null</td><td>null</td><td>null</td><td>null</td><td>null</td><td>null</td><td>null</td><td>null</td><td>null</td><td>null</td><td>null</td><td>null</td><td>null</td><td>null</td><td>null</td><td>null</td><td>null</td></tr><tr><td>&quot;Timey Wimey&quot;</td><td>null</td><td>133</td><td>&quot;Fire, Chill, Food&nbsp;&nbsp;&nbsp;|&nbsp;&nbsp;&nbsp;Zone 3…</td><td>null</td><td>&quot;rjdRePl&quot;</td><td>&quot;rz0gJN&quot;</td><td>&quot;8/7/25 2:05&quot;</td><td>&quot;Prof X&quot;</td><td>null</td><td>&quot;BB&quot;</td><td>&quot;wants near the action and is w…</td><td>null</td><td>null</td><td>null</td><td>&quot;Paige Logan &quot;</td><td>&quot;Dragontits&quot;</td><td>&quot;She&quot;</td><td>&quot;6159481033&quot;</td><td>&quot;paiglo1@me.com&quot;</td><td>&quot;Yes&quot;</td><td>&quot;Olivia holladay&quot;</td><td>&quot;Don’t remember &quot;</td><td>&quot;She&quot;</td><td>&quot;6154262155&quot;</td><td>&quot;oliviaholladay70@gmail.com&quot;</td><td>&quot;Come by Timey Wimey for a late…</td><td>&quot;Four or more times&quot;</td><td>4</td><td>&quot;No&quot;</td><td>&quot;Yellow&quot;</td><td>&quot;Outward&quot;</td><td>&quot;Fire, Chill, Food&quot;</td><td>true</td><td>false</td><td>false</td><td>true</td><td>&hellip;</td><td>null</td><td>null</td><td>null</td><td>null</td><td>null</td><td>null</td><td>null</td><td>null</td><td>null</td><td>null</td><td>null</td><td>null</td><td>null</td><td>null</td><td>null</td><td>null</td><td>null</td><td>null</td><td>null</td><td>null</td><td>null</td><td>null</td><td>null</td><td>null</td><td>null</td><td>null</td><td>null</td><td>null</td><td>null</td><td>null</td><td>null</td><td>null</td><td>null</td><td>null</td><td>null</td><td>null</td><td>null</td></tr></tbody></table></div>"
      ]
     },
     "execution_count": 24,
     "metadata": {},
     "output_type": "execute_result"
    }
   ],
   "execution_count": 24
  },
  {
   "metadata": {
    "ExecuteTime": {
     "end_time": "2025-09-23T01:03:25.778633Z",
     "start_time": "2025-09-23T01:03:25.775066Z"
    }
   },
   "cell_type": "code",
   "source": [
    "for i, name in enumerate(df.columns):\n",
    "    if i > 113:\n",
    "        break\n",
    "    print(i, name)"
   ],
   "id": "d53be011e0c281d7",
   "outputs": [
    {
     "name": "stdout",
     "output_type": "stream",
     "text": [
      "0 Theme Camp Name\n",
      "1 Neighborhood\n",
      "2        Index\n",
      "3 Jess collection :P\n",
      "4 N O T E S\n",
      "5 Submission ID\n",
      "6 Respondent ID\n",
      "7 Submitted at\n",
      "8 2024 TCC\n",
      "9 2025 TCC\n",
      "10        Field\n",
      "11 PlacementReason\n",
      "12 Problems\n",
      "13 deprecatedNeighborhoodCol\n",
      "14 location reason\n",
      "15 TCO Full Name\n",
      "16 TCO Preferred/Burner Name\n",
      "17 TCO Pronouns\n",
      "18 TCO Best Contact Number\n",
      "19 TCO Email\n",
      "20 Do you have a Co-TCO?\n",
      "21 CoTCO Full Name\n",
      "22 CoTCO Preferred/Burner Name\n",
      "23 CoTCO Pronouns\n",
      "24 CoTCO Best Contact Number\n",
      "25 CoTCO Email\n",
      "26 Theme Camp Description\n",
      "27 How many times has your camp been a part of Alchemy?\n",
      "28 Total Camp Members\n",
      "29 Are there minors in your camp?\n",
      "30 Rate your Kid Friendliness\n",
      "31 What type of Camp are you?\n",
      "32 Themes of your Camp\n",
      "33 Theme - Food\n",
      "34 Theme - Sound\n",
      "35 Theme - Party\n",
      "36 Theme - Fire\n",
      "37 Theme - Wellness/Spiritual\n",
      "38 Theme - Chill\n",
      "39 Theme - Education\n",
      "40 Theme - Kid Friendly\n",
      "41 Early Entry Passes Needed\n",
      "42 LNT Plan\n",
      "43 Are you part of a Village?\n",
      "44 Village Members \n",
      "45 Minimum Width (ft)\n",
      "46 Minimum Depth (ft)\n",
      "47 Preferred Width (ft)\n",
      "48 Preferred Depth (ft)\n",
      "49 totalsqft (preferred)\n",
      "50 Largest Immovable Object Name\n",
      "51 LIO Width (ft)\n",
      "52 LIO Depth (ft)\n",
      "53 more than one LIO\n",
      "54 more than one LIO (I'd like to list more things)\n",
      "55 LIO #2 Name\n",
      "56 LIO #2 Width (ft)\n",
      "57 LIO #2 Depth (ft)\n",
      "58 LIO #3 Name\n",
      "59 LIO #3 Width (ft)\n",
      "60 LIO #3 Depth (ft)\n",
      "61 Stationary Vehicles?\n",
      "62 How many Cars / Trucks\n",
      "63 How many RVs / Trailers\n",
      "64 Will register TC Vehicles\n",
      "65 Will register TC Vehicles (I understand)\n",
      "66 Site Map Link\n",
      "67 Site Map image file\n",
      "68 Accessibility accommodations?\n",
      "69 nature of accomodation request(s)\n",
      "70 porto placement\n",
      "71 shuttle stop placement\n",
      "72 Generators\n",
      "73 How many generators?\n",
      "74 sound baffling plan\n",
      "75 TC Sound Manager same as TCO?\n",
      "76 TC Sound Manager same as TCO? (Same as TCO Contact Info)\n",
      "77 TC Sound Manager Name\n",
      "78 TC SM Preferred/Burner Name\n",
      "79 TC SM Pronouns\n",
      "80 TC SM Contact Number\n",
      "81 TC SM Email\n",
      "82 What sound set-up do you intend to bring?\n",
      "83 Sound Level (1-6)\n",
      "84 What kind of Sound do you have?\n",
      "85 What kind of Lighting do you have?\n",
      "86 Sound Zones willing to be in (colored by loudest zone)\n",
      "87 sound zone loudest pref\n",
      "88 General Placement Preference\n",
      "89 GenPref (Flat Ground)\n",
      "90 General Placement Preference (Quieter Area)\n",
      "91 General Placement Preference (Heavy Foot Traffic)\n",
      "92 General Placement Preference (Near Art Burn & Center Village)\n",
      "93 General Placement Preference (Near Effigy)\n",
      "94 General Placement Preference (Near Temple)\n",
      "95 General Placement Preference (Near Camps of Similar Themes)\n",
      "96 General Placement Preference (Short Walk to Sound Camps)\n",
      "97 General Placement Preference (in order of preference)\n",
      "98 Hosting a Mutant Vehicle or Art Car?\n",
      "99 Will register MV Agreement\n",
      "100 Will register MV Agreement (Okay, I'll register it)\n",
      "101 Hosting any Art Projects?\n",
      "102 How many Art Projects?\n",
      "103 Art Project #1\n",
      "104 AP#1 Info\n",
      "105 Art Project #2\n",
      "106 AP#2 Info\n",
      "107 Art Project #3\n",
      "108 AP#3 Info\n",
      "109 Art Project #4\n",
      "110 AP#4 Info\n",
      "111 Art Project #5\n",
      "112 AP#5 Info\n",
      "113 Will register Art Agreement\n"
     ]
    }
   ],
   "execution_count": 27
  },
  {
   "metadata": {
    "ExecuteTime": {
     "end_time": "2025-09-23T01:14:08.327136Z",
     "start_time": "2025-09-23T01:14:08.325064Z"
    }
   },
   "cell_type": "code",
   "source": "cols_to_keep = [0, 1, 2, 28, 29, 30, 31, 33, 34, 35, 36, 37, 38, 39, 40, 44, 45, 46, 47, 48, 49, 50, 51, 52, 55, 56, 57, 58, 59, 60, 62, 63, 68, 69, 70, 71, 73, 83, 84, 85, 86, 87, 89, 90, 91, 92, 93, 94, 95, 96, 97, 98, 99, 102, 103, 104, 105, 106, 107, 108, 109, 110, 111, 112]",
   "id": "596db3038d2289bb",
   "outputs": [],
   "execution_count": 28
  },
  {
   "metadata": {
    "ExecuteTime": {
     "end_time": "2025-09-23T01:20:00.884876Z",
     "start_time": "2025-09-23T01:20:00.878268Z"
    }
   },
   "cell_type": "code",
   "source": [
    "cols_to_keep_by_i = [df.columns[i] for i in cols_to_keep]\n",
    "df_subset = df.select(cols_to_keep_by_i)"
   ],
   "id": "1eec6b121961405b",
   "outputs": [],
   "execution_count": 31
  },
  {
   "metadata": {
    "ExecuteTime": {
     "end_time": "2025-09-23T01:20:10.009286Z",
     "start_time": "2025-09-23T01:20:10.004529Z"
    }
   },
   "cell_type": "code",
   "source": "df_subset",
   "id": "4f7a5d70000c80f6",
   "outputs": [
    {
     "data": {
      "text/plain": [
       "shape: (141, 64)\n",
       "┌────────────┬────────────┬───────┬────────────┬───┬───────────┬───────────┬───────────┬───────────┐\n",
       "│ Theme Camp ┆ Neighborho ┆ Index ┆ Total Camp ┆ … ┆ Art       ┆ AP#4 Info ┆ Art       ┆ AP#5 Info │\n",
       "│ Name       ┆ od         ┆ ---   ┆ Members    ┆   ┆ Project   ┆ ---       ┆ Project   ┆ ---       │\n",
       "│ ---        ┆ ---        ┆ i64   ┆ ---        ┆   ┆ #4        ┆ str       ┆ #5        ┆ str       │\n",
       "│ str        ┆ str        ┆       ┆ i64        ┆   ┆ ---       ┆           ┆ ---       ┆           │\n",
       "│            ┆            ┆       ┆            ┆   ┆ str       ┆           ┆ str       ┆           │\n",
       "╞════════════╪════════════╪═══════╪════════════╪═══╪═══════════╪═══════════╪═══════════╪═══════════╡\n",
       "│ 3rd Aid    ┆ Corner     ┆ 3     ┆ 36         ┆ … ┆ null      ┆ null      ┆ null      ┆ null      │\n",
       "│            ┆ Pocket     ┆       ┆            ┆   ┆           ┆           ┆           ┆           │\n",
       "│ 6 Raccoons ┆ Corner     ┆ 4     ┆ 6          ┆ … ┆ null      ┆ null      ┆ null      ┆ null      │\n",
       "│ in a       ┆ Pocket     ┆       ┆            ┆   ┆           ┆           ┆           ┆           │\n",
       "│ Trenchcoat ┆            ┆       ┆            ┆   ┆           ┆           ┆           ┆           │\n",
       "│ Bacchanali ┆ Corner     ┆ 7     ┆ 16         ┆ … ┆ Fat       ┆ No        ┆ null      ┆ null      │\n",
       "│ a          ┆ Pocket     ┆       ┆            ┆   ┆ Bottom    ┆ Options   ┆           ┆           │\n",
       "│            ┆            ┆       ┆            ┆   ┆ Booty     ┆ Apply     ┆           ┆           │\n",
       "│            ┆            ┆       ┆            ┆   ┆ Prints    ┆           ┆           ┆           │\n",
       "│ Big Spooky ┆ Field of   ┆ 11    ┆ 13         ┆ … ┆ null      ┆ null      ┆ null      ┆ null      │\n",
       "│ Energy     ┆ Visions    ┆       ┆            ┆   ┆           ┆           ┆           ┆           │\n",
       "│ Blood      ┆ Corner     ┆ 12    ┆ 15         ┆ … ┆ null      ┆ null      ┆ null      ┆ null      │\n",
       "│ Drive      ┆ Pocket     ┆       ┆            ┆   ┆           ┆           ┆           ┆           │\n",
       "│ …          ┆ …          ┆ …     ┆ …          ┆ … ┆ …         ┆ …         ┆ …         ┆ …         │\n",
       "│ S.S.       ┆ The        ┆ 102   ┆ 12         ┆ … ┆ null      ┆ null      ┆ null      ┆ null      │\n",
       "│ Friendship ┆ Sunglade   ┆       ┆            ┆   ┆           ┆           ┆           ┆           │\n",
       "│ Traveling  ┆ The        ┆ 134   ┆ 4          ┆ … ┆ null      ┆ null      ┆ null      ┆ null      │\n",
       "│ Tinker     ┆ Sunglade   ┆       ┆            ┆   ┆           ┆           ┆           ┆           │\n",
       "│ Camp       ┆            ┆       ┆            ┆   ┆           ┆           ┆           ┆           │\n",
       "│ Zip-Tie    ┆ The        ┆ 145   ┆ 8          ┆ … ┆ null      ┆ null      ┆ null      ┆ null      │\n",
       "│ Hexagons   ┆ Sunglade   ┆       ┆            ┆   ┆           ┆           ┆           ┆           │\n",
       "│ Raised by  ┆ null       ┆ 98    ┆ 23         ┆ … ┆ null      ┆ null      ┆ null      ┆ null      │\n",
       "│ Raccoons   ┆            ┆       ┆            ┆   ┆           ┆           ┆           ┆           │\n",
       "│ Timey      ┆ null       ┆ 133   ┆ 4          ┆ … ┆ null      ┆ null      ┆ null      ┆ null      │\n",
       "│ Wimey      ┆            ┆       ┆            ┆   ┆           ┆           ┆           ┆           │\n",
       "└────────────┴────────────┴───────┴────────────┴───┴───────────┴───────────┴───────────┴───────────┘"
      ],
      "text/html": [
       "<div><style>\n",
       ".dataframe > thead > tr,\n",
       ".dataframe > tbody > tr {\n",
       "  text-align: right;\n",
       "  white-space: pre-wrap;\n",
       "}\n",
       "</style>\n",
       "<small>shape: (141, 64)</small><table border=\"1\" class=\"dataframe\"><thead><tr><th>Theme Camp Name</th><th>Neighborhood</th><th>       Index</th><th>Total Camp Members</th><th>Are there minors in your camp?</th><th>Rate your Kid Friendliness</th><th>What type of Camp are you?</th><th>Theme - Food</th><th>Theme - Sound</th><th>Theme - Party</th><th>Theme - Fire</th><th>Theme - Wellness/Spiritual</th><th>Theme - Chill</th><th>Theme - Education</th><th>Theme - Kid Friendly</th><th>Village Members </th><th>Minimum Width (ft)</th><th>Minimum Depth (ft)</th><th>Preferred Width (ft)</th><th>Preferred Depth (ft)</th><th>totalsqft (preferred)</th><th>Largest Immovable Object Name</th><th>LIO Width (ft)</th><th>LIO Depth (ft)</th><th>LIO #2 Name</th><th>LIO #2 Width (ft)</th><th>LIO #2 Depth (ft)</th><th>LIO #3 Name</th><th>LIO #3 Width (ft)</th><th>LIO #3 Depth (ft)</th><th>How many Cars / Trucks</th><th>How many RVs / Trailers</th><th>Accessibility accommodations?</th><th>nature of accomodation request(s)</th><th>porto placement</th><th>shuttle stop placement</th><th>How many generators?</th><th>Sound Level (1-6)</th><th>What kind of Sound do you have?</th><th>What kind of Lighting do you have?</th><th>Sound Zones willing to be in (colored by loudest zone)</th><th>sound zone loudest pref</th><th>GenPref (Flat Ground)</th><th>General Placement Preference (Quieter Area)</th><th>General Placement Preference (Heavy Foot Traffic)</th><th>General Placement Preference (Near Art Burn &amp; Center Village)</th><th>General Placement Preference (Near Effigy)</th><th>General Placement Preference (Near Temple)</th><th>General Placement Preference (Near Camps of Similar Themes)</th><th>General Placement Preference (Short Walk to Sound Camps)</th><th>General Placement Preference (in order of preference)</th><th>Hosting a Mutant Vehicle or Art Car?</th><th>Will register MV Agreement</th><th>How many Art Projects?</th><th>Art Project #1</th><th>AP#1 Info</th><th>Art Project #2</th><th>AP#2 Info</th><th>Art Project #3</th><th>AP#3 Info</th><th>Art Project #4</th><th>AP#4 Info</th><th>Art Project #5</th><th>AP#5 Info</th></tr><tr><td>str</td><td>str</td><td>i64</td><td>i64</td><td>str</td><td>str</td><td>str</td><td>bool</td><td>bool</td><td>bool</td><td>bool</td><td>bool</td><td>bool</td><td>bool</td><td>bool</td><td>str</td><td>f64</td><td>i64</td><td>f64</td><td>i64</td><td>i64</td><td>str</td><td>i64</td><td>i64</td><td>str</td><td>i64</td><td>i64</td><td>str</td><td>f64</td><td>i64</td><td>i64</td><td>i64</td><td>str</td><td>str</td><td>str</td><td>str</td><td>i64</td><td>str</td><td>str</td><td>str</td><td>str</td><td>str</td><td>bool</td><td>bool</td><td>bool</td><td>bool</td><td>bool</td><td>bool</td><td>bool</td><td>bool</td><td>str</td><td>str</td><td>str</td><td>i64</td><td>str</td><td>str</td><td>str</td><td>str</td><td>str</td><td>str</td><td>str</td><td>str</td><td>str</td><td>str</td></tr></thead><tbody><tr><td>&quot;3rd Aid&quot;</td><td>&quot;Corner Pocket&quot;</td><td>3</td><td>36</td><td>&quot;No&quot;</td><td>&quot;Yellow&quot;</td><td>&quot;Outward&quot;</td><td>false</td><td>false</td><td>false</td><td>false</td><td>true</td><td>true</td><td>true</td><td>false</td><td>&quot;Village - Duckburg: 3rd Aid / …</td><td>80.0</td><td>190</td><td>80.0</td><td>190</td><td>15200</td><td>&quot;Canopy Tent&quot;</td><td>45</td><td>45</td><td>null</td><td>null</td><td>null</td><td>null</td><td>null</td><td>null</td><td>2</td><td>0</td><td>&quot;Yes&quot;</td><td>&quot;Several handy-capable members.…</td><td>&quot;porto-near&quot;</td><td>null</td><td>2</td><td>&quot;-&quot;</td><td>&quot;Quiet Camp&quot;</td><td>&quot;Moderate light levels, but no …</td><td>&quot;Zone 2 - Amplified sound is cu…</td><td>&quot;Zone 2&quot;</td><td>true</td><td>false</td><td>true</td><td>false</td><td>false</td><td>false</td><td>false</td><td>true</td><td>&quot;Flat Ground, Heavy Foot Traffi…</td><td>&quot;No&quot;</td><td>null</td><td>null</td><td>null</td><td>null</td><td>null</td><td>null</td><td>null</td><td>null</td><td>null</td><td>null</td><td>null</td><td>null</td></tr><tr><td>&quot;6 Raccoons in a Trenchcoat&quot;</td><td>&quot;Corner Pocket&quot;</td><td>4</td><td>6</td><td>&quot;No&quot;</td><td>&quot;Yellow&quot;</td><td>&quot;Inward&quot;</td><td>false</td><td>false</td><td>false</td><td>false</td><td>false</td><td>true</td><td>false</td><td>false</td><td>null</td><td>30.0</td><td>60</td><td>30.0</td><td>75</td><td>2250</td><td>&quot;Camp Canopy&quot;</td><td>10</td><td>20</td><td>null</td><td>null</td><td>null</td><td>null</td><td>null</td><td>null</td><td>1</td><td>0</td><td>&quot;No&quot;</td><td>null</td><td>null</td><td>null</td><td>null</td><td>&quot;-&quot;</td><td>&quot;Quiet Camp&quot;</td><td>&quot;Low lighting within camp for v…</td><td>&quot;Zone 1 - Amplified sound is cu…</td><td>&quot;Zone 1&quot;</td><td>true</td><td>true</td><td>false</td><td>true</td><td>false</td><td>false</td><td>false</td><td>false</td><td>&quot;Near Art Burn, Flat Ground, Qu…</td><td>&quot;No&quot;</td><td>null</td><td>null</td><td>null</td><td>null</td><td>null</td><td>null</td><td>null</td><td>null</td><td>null</td><td>null</td><td>null</td><td>null</td></tr><tr><td>&quot;Bacchanalia&quot;</td><td>&quot;Corner Pocket&quot;</td><td>7</td><td>16</td><td>&quot;No&quot;</td><td>&quot;Red&quot;</td><td>&quot;Outward&quot;</td><td>true</td><td>false</td><td>false</td><td>false</td><td>true</td><td>true</td><td>false</td><td>false</td><td>null</td><td>60.0</td><td>100</td><td>60.0</td><td>120</td><td>7200</td><td>&quot;party tent&quot;</td><td>40</td><td>20</td><td>&quot;party tent&quot;</td><td>20</td><td>20</td><td>null</td><td>null</td><td>null</td><td>1</td><td>0</td><td>&quot;No&quot;</td><td>null</td><td>null</td><td>null</td><td>2</td><td>&quot;-&quot;</td><td>&quot;Quiet Camp&quot;</td><td>&quot;Moderate light levels, but no …</td><td>&quot;Zone 1 - Amplified sound is cu…</td><td>&quot;Zone 1&quot;</td><td>true</td><td>true</td><td>true</td><td>false</td><td>false</td><td>false</td><td>false</td><td>false</td><td>&quot;Flat Ground, Heavy Foot Traffi…</td><td>&quot;No&quot;</td><td>null</td><td>4</td><td>&quot;Human Charcuterie&quot;</td><td>&quot;No Options Apply&quot;</td><td>&quot;Desserts after Dark&quot;</td><td>&quot;No Options Apply&quot;</td><td>&quot;Menstruation Station&quot;</td><td>&quot;No Options Apply&quot;</td><td>&quot;Fat Bottom Booty Prints&quot;</td><td>&quot;No Options Apply&quot;</td><td>null</td><td>null</td></tr><tr><td>&quot;Big Spooky Energy&quot;</td><td>&quot;Field of Visions&quot;</td><td>11</td><td>13</td><td>&quot;No&quot;</td><td>&quot;Yellow&quot;</td><td>&quot;Outward&quot;</td><td>true</td><td>false</td><td>false</td><td>false</td><td>false</td><td>true</td><td>false</td><td>false</td><td>&quot;We want to be near DIYkes if p…</td><td>70.0</td><td>120</td><td>70.0</td><td>120</td><td>8400</td><td>&quot;Walk through haunted house&quot;</td><td>20</td><td>30</td><td>null</td><td>null</td><td>null</td><td>null</td><td>null</td><td>null</td><td>1</td><td>1</td><td>&quot;No&quot;</td><td>null</td><td>null</td><td>null</td><td>1</td><td>&quot;-&quot;</td><td>&quot;Chill Sound Camp&quot;</td><td>&quot;Moderate light levels, but no …</td><td>&quot;Zone 2 - Amplified sound is cu…</td><td>&quot;Zone 2&quot;</td><td>true</td><td>false</td><td>true</td><td>false</td><td>false</td><td>false</td><td>false</td><td>false</td><td>&quot;Heavy Foot Traffic, Flat Groun…</td><td>&quot;Yes&quot;</td><td>&quot;Okay, I&#x27;ll register it&quot;</td><td>1</td><td>&quot;Cooking with Big Spooky Energy…</td><td>&quot;Funded by Art Grant&quot;</td><td>null</td><td>null</td><td>null</td><td>null</td><td>null</td><td>null</td><td>null</td><td>null</td></tr><tr><td>&quot;Blood Drive&quot;</td><td>&quot;Corner Pocket&quot;</td><td>12</td><td>15</td><td>&quot;No&quot;</td><td>&quot;Yellow&quot;</td><td>&quot;Outward&quot;</td><td>true</td><td>false</td><td>false</td><td>false</td><td>false</td><td>true</td><td>true</td><td>false</td><td>null</td><td>35.0</td><td>60</td><td>40.0</td><td>65</td><td>2600</td><td>&quot;20x20 canopy&quot;</td><td>20</td><td>20</td><td>null</td><td>null</td><td>null</td><td>null</td><td>null</td><td>null</td><td>null</td><td>null</td><td>&quot;No&quot;</td><td>null</td><td>null</td><td>null</td><td>1</td><td>&quot;-&quot;</td><td>&quot;Chill Sound Camp&quot;</td><td>&quot;Moderate light levels, but no …</td><td>&quot;Zone 2 - Amplified sound is cu…</td><td>&quot;Zone 3&quot;</td><td>true</td><td>false</td><td>true</td><td>false</td><td>false</td><td>false</td><td>false</td><td>true</td><td>&quot;Heavy Foot Traffic, Flat Groun…</td><td>&quot;No&quot;</td><td>null</td><td>null</td><td>null</td><td>null</td><td>null</td><td>null</td><td>null</td><td>null</td><td>null</td><td>null</td><td>null</td><td>null</td></tr><tr><td>&hellip;</td><td>&hellip;</td><td>&hellip;</td><td>&hellip;</td><td>&hellip;</td><td>&hellip;</td><td>&hellip;</td><td>&hellip;</td><td>&hellip;</td><td>&hellip;</td><td>&hellip;</td><td>&hellip;</td><td>&hellip;</td><td>&hellip;</td><td>&hellip;</td><td>&hellip;</td><td>&hellip;</td><td>&hellip;</td><td>&hellip;</td><td>&hellip;</td><td>&hellip;</td><td>&hellip;</td><td>&hellip;</td><td>&hellip;</td><td>&hellip;</td><td>&hellip;</td><td>&hellip;</td><td>&hellip;</td><td>&hellip;</td><td>&hellip;</td><td>&hellip;</td><td>&hellip;</td><td>&hellip;</td><td>&hellip;</td><td>&hellip;</td><td>&hellip;</td><td>&hellip;</td><td>&hellip;</td><td>&hellip;</td><td>&hellip;</td><td>&hellip;</td><td>&hellip;</td><td>&hellip;</td><td>&hellip;</td><td>&hellip;</td><td>&hellip;</td><td>&hellip;</td><td>&hellip;</td><td>&hellip;</td><td>&hellip;</td><td>&hellip;</td><td>&hellip;</td><td>&hellip;</td><td>&hellip;</td><td>&hellip;</td><td>&hellip;</td><td>&hellip;</td><td>&hellip;</td><td>&hellip;</td><td>&hellip;</td><td>&hellip;</td><td>&hellip;</td><td>&hellip;</td><td>&hellip;</td></tr><tr><td>&quot;S.S. Friendship&quot;</td><td>&quot;The Sunglade&quot;</td><td>102</td><td>12</td><td>&quot;No&quot;</td><td>&quot;Yellow&quot;</td><td>&quot;Outward&quot;</td><td>false</td><td>false</td><td>false</td><td>false</td><td>false</td><td>true</td><td>false</td><td>false</td><td>null</td><td>55.0</td><td>55</td><td>60.0</td><td>60</td><td>3600</td><td>&quot;Kitchen&quot;</td><td>10</td><td>20</td><td>null</td><td>null</td><td>null</td><td>null</td><td>null</td><td>null</td><td>0</td><td>2</td><td>&quot;No&quot;</td><td>null</td><td>null</td><td>null</td><td>1</td><td>&quot;-&quot;</td><td>&quot;Chill Sound Camp&quot;</td><td>&quot;Low lighting within camp for v…</td><td>&quot;Zone 2 - Amplified sound is cu…</td><td>&quot;Zone 2&quot;</td><td>true</td><td>false</td><td>true</td><td>false</td><td>false</td><td>false</td><td>true</td><td>false</td><td>&quot;Near Camps of Similar Themes, …</td><td>&quot;No&quot;</td><td>null</td><td>null</td><td>null</td><td>null</td><td>null</td><td>null</td><td>null</td><td>null</td><td>null</td><td>null</td><td>null</td><td>null</td></tr><tr><td>&quot;Traveling Tinker Camp&quot;</td><td>&quot;The Sunglade&quot;</td><td>134</td><td>4</td><td>&quot;No&quot;</td><td>&quot;Yellow&quot;</td><td>&quot;Bedroom&quot;</td><td>false</td><td>false</td><td>false</td><td>false</td><td>false</td><td>false</td><td>true</td><td>false</td><td>null</td><td>30.0</td><td>30</td><td>30.0</td><td>50</td><td>1500</td><td>&quot;RV+Door Access&quot;</td><td>15</td><td>30</td><td>null</td><td>null</td><td>null</td><td>null</td><td>null</td><td>null</td><td>1</td><td>1</td><td>&quot;No&quot;</td><td>null</td><td>null</td><td>null</td><td>null</td><td>&quot;-&quot;</td><td>&quot;Quiet Camp&quot;</td><td>&quot;Low lighting within camp for v…</td><td>&quot;Zone 1 - Amplified sound is cu…</td><td>&quot;Zone 1&quot;</td><td>true</td><td>true</td><td>false</td><td>false</td><td>false</td><td>false</td><td>false</td><td>false</td><td>&quot;Quieter Area, Flat Ground&quot;</td><td>&quot;No&quot;</td><td>null</td><td>null</td><td>null</td><td>null</td><td>null</td><td>null</td><td>null</td><td>null</td><td>null</td><td>null</td><td>null</td><td>null</td></tr><tr><td>&quot;Zip-Tie Hexagons&quot;</td><td>&quot;The Sunglade&quot;</td><td>145</td><td>8</td><td>&quot;No&quot;</td><td>&quot;Yellow&quot;</td><td>&quot;Outward&quot;</td><td>false</td><td>true</td><td>false</td><td>false</td><td>false</td><td>true</td><td>true</td><td>false</td><td>null</td><td>35.0</td><td>45</td><td>50.0</td><td>60</td><td>3000</td><td>&quot;Dance floor and DJ booth&quot;</td><td>10</td><td>20</td><td>null</td><td>null</td><td>null</td><td>null</td><td>null</td><td>null</td><td>1</td><td>0</td><td>&quot;No&quot;</td><td>null</td><td>null</td><td>null</td><td>1</td><td>&quot;-&quot;</td><td>&quot;Chill Sound Camp&quot;</td><td>&quot;Moderate light levels, but no …</td><td>&quot;Zone 1 - Amplified sound is cu…</td><td>&quot;Zone 1&quot;</td><td>true</td><td>true</td><td>false</td><td>false</td><td>false</td><td>false</td><td>false</td><td>false</td><td>&quot;Flat Ground, Quieter Area&quot;</td><td>&quot;No&quot;</td><td>null</td><td>null</td><td>null</td><td>null</td><td>null</td><td>null</td><td>null</td><td>null</td><td>null</td><td>null</td><td>null</td><td>null</td></tr><tr><td>&quot;Raised by Raccoons&quot;</td><td>null</td><td>98</td><td>23</td><td>&quot;No&quot;</td><td>&quot;Yellow&quot;</td><td>&quot;Inward&quot;</td><td>false</td><td>false</td><td>true</td><td>false</td><td>false</td><td>true</td><td>false</td><td>false</td><td>&quot;Raised by Raccoons, DIYkes, Qu…</td><td>60.0</td><td>66</td><td>70.0</td><td>70</td><td>4900</td><td>&quot;double FR shade structure&quot;</td><td>40</td><td>40</td><td>null</td><td>null</td><td>null</td><td>null</td><td>null</td><td>null</td><td>null</td><td>null</td><td>&quot;No&quot;</td><td>null</td><td>null</td><td>null</td><td>1</td><td>&quot;-&quot;</td><td>&quot;Chill Sound Camp&quot;</td><td>&quot;Moderate light levels, but no …</td><td>&quot;Zone 2 - Amplified sound is cu…</td><td>&quot;Zone 2&quot;</td><td>true</td><td>false</td><td>true</td><td>false</td><td>false</td><td>false</td><td>true</td><td>false</td><td>&quot;Flat Ground, Near Camps of Sim…</td><td>&quot;No&quot;</td><td>null</td><td>null</td><td>null</td><td>null</td><td>null</td><td>null</td><td>null</td><td>null</td><td>null</td><td>null</td><td>null</td><td>null</td></tr><tr><td>&quot;Timey Wimey&quot;</td><td>null</td><td>133</td><td>4</td><td>&quot;No&quot;</td><td>&quot;Yellow&quot;</td><td>&quot;Outward&quot;</td><td>true</td><td>false</td><td>false</td><td>true</td><td>false</td><td>true</td><td>false</td><td>false</td><td>null</td><td>20.0</td><td>30</td><td>25.0</td><td>40</td><td>1000</td><td>&quot;12x12 pop up shade tent &quot;</td><td>12</td><td>12</td><td>null</td><td>null</td><td>null</td><td>null</td><td>null</td><td>null</td><td>null</td><td>null</td><td>&quot;No&quot;</td><td>null</td><td>null</td><td>null</td><td>null</td><td>&quot;-&quot;</td><td>&quot;Chill Sound Camp&quot;</td><td>&quot;Low lighting within camp for v…</td><td>&quot;Zone 3 - No sound restrictions…</td><td>&quot;Zone 3&quot;</td><td>false</td><td>false</td><td>true</td><td>true</td><td>false</td><td>false</td><td>false</td><td>true</td><td>&quot;Short Walk to Sound Camps, Hea…</td><td>&quot;No&quot;</td><td>null</td><td>null</td><td>null</td><td>null</td><td>null</td><td>null</td><td>null</td><td>null</td><td>null</td><td>null</td><td>null</td><td>null</td></tr></tbody></table></div>"
      ]
     },
     "execution_count": 32,
     "metadata": {},
     "output_type": "execute_result"
    }
   ],
   "execution_count": 32
  }
 ],
 "metadata": {
  "kernelspec": {
   "display_name": "Python 3",
   "language": "python",
   "name": "python3"
  },
  "language_info": {
   "codemirror_mode": {
    "name": "ipython",
    "version": 2
   },
   "file_extension": ".py",
   "mimetype": "text/x-python",
   "name": "python",
   "nbconvert_exporter": "python",
   "pygments_lexer": "ipython2",
   "version": "2.7.6"
  }
 },
 "nbformat": 4,
 "nbformat_minor": 5
}
