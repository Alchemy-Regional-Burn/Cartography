{
 "cells": [
  {
   "metadata": {
    "collapsed": true
   },
   "cell_type": "markdown",
   "source": [
    "# Filtering columns in theme camp CSV exported from spreadsheet\n",
    "The theme camp information is captured from Google forms in a spreadsheet.  This spreadsheet contains columns that need to be merged into the theme camp polygon attribute table to allow for creating specialized maps, such as camp population chloropeths, showing distribution of inward vs. outward facing camps, and indicating closeness to budgeted square footage.\n",
    "\n",
    "A CSV file is exported from that Excel spreadsheet, but it contains fields that we don't want in the theme camp attribute table, particularly fields that contain personally identifiable information (PII), such as phone numbers and email addresses.  There are also a number of other fields that are irrelevant to making maps.\n",
    "\n",
    "This notebook filters for the fields we *want* and creates a CSV file from which we can then import into the theme camp layer."
   ],
   "id": "d7f998edc8153e82"
  },
  {
   "metadata": {},
   "cell_type": "code",
   "outputs": [],
   "execution_count": null,
   "source": "import polars as pl",
   "id": "66ad92a0455183a"
  }
 ],
 "metadata": {
  "kernelspec": {
   "display_name": "Python 3",
   "language": "python",
   "name": "python3"
  },
  "language_info": {
   "codemirror_mode": {
    "name": "ipython",
    "version": 2
   },
   "file_extension": ".py",
   "mimetype": "text/x-python",
   "name": "python",
   "nbconvert_exporter": "python",
   "pygments_lexer": "ipython2",
   "version": "2.7.6"
  }
 },
 "nbformat": 4,
 "nbformat_minor": 5
}
